{
 "cells": [
  {
   "cell_type": "markdown",
   "id": "4e0c7dc9",
   "metadata": {
    "slideshow": {
     "slide_type": "slide"
    }
   },
   "source": [
    "# Intro to Reshapr\n",
    "\n",
    "MOAD Group Software **Discussion**\n",
    "\n",
    "?? Aug 2022"
   ]
  },
  {
   "cell_type": "markdown",
   "id": "e607c70a",
   "metadata": {
    "slideshow": {
     "slide_type": "skip"
    }
   },
   "source": [
    "This notebook can be viewed as a slideshow by using the \n",
    "[RISE](https://rise.readthedocs.io/en/stable/index.html])\n",
    "slide show extension for Jupyter.\n",
    "\n",
    "*Note: RISE only works with `jupyter notebook`, not with `jupyter lab` :-(*\n",
    "\n",
    "If you are working in an up to date clone of the \n",
    "[UBC-MOAD/PythonNotes repo](https://github.com/UBC-MOAD/PythonNotes),\n",
    "you can run the slideshow locally.\n",
    "To do so:\n",
    "* create an conda environment containing `jupyter` and `rise` with:\n",
    "```bash\n",
    "conda env create -f PythonNotes/reshapr-intro/environment.yaml\n",
    "```\n",
    "* start `jupyter notebook`\n",
    "* open `PythonNotes/reshapr-intro/ReshaprIntroSlides.ipynb`\n",
    "* use `Alt+r` or the `Enter/Exit RISE Slideshow` toobar button to start/stop the slideshow mode\n",
    "* use `Space` and `Shift+Space` to navigate forward and backward through the slide cells"
   ]
  },
  {
   "cell_type": "markdown",
   "id": "884bd418",
   "metadata": {
    "slideshow": {
     "slide_type": "slide"
    }
   },
   "source": [
    "## Motivation"
   ]
  },
  {
   "cell_type": "markdown",
   "id": "d582c878",
   "metadata": {
    "slideshow": {
     "slide_type": "fragment"
    }
   },
   "source": [
    "* Ocean, climate & atmospheric model outputs are netCDF4 files"
   ]
  },
  {
   "cell_type": "markdown",
   "id": "a6485b71",
   "metadata": {
    "slideshow": {
     "slide_type": "fragment"
    }
   },
   "source": [
    "* Time series of model variables/fields are interesting and useful"
   ]
  },
  {
   "cell_type": "markdown",
   "id": "dfd2969c",
   "metadata": {
    "slideshow": {
     "slide_type": "fragment"
    }
   },
   "source": [
    "* Variable values for time series are stored across many files (daily-ish or monthly-ish)"
   ]
  },
  {
   "cell_type": "markdown",
   "id": "add77a44",
   "metadata": {
    "slideshow": {
     "slide_type": "fragment"
    }
   },
   "source": [
    "* Files are large:\n",
    "  24 hours, 40 depths levels, 398 x 898 x-y grid points of SalishSeaCast is 2.1 Gb on disk"
   ]
  },
  {
   "cell_type": "markdown",
   "id": "f7dce29a",
   "metadata": {
    "slideshow": {
     "slide_type": "fragment"
    }
   },
   "source": [
    "* ~10 Gb in memory due to ~80% deflation when models write files"
   ]
  },
  {
   "cell_type": "markdown",
   "id": "1372dac1",
   "metadata": {
    "slideshow": {
     "slide_type": "fragment"
    }
   },
   "source": [
    "* Time series extraction = dealing with multiple files that exceed memory size if all loaded at once,\n",
    "  and that have a computational cost to simply open due to the necessary data decompression"
   ]
  },
  {
   "cell_type": "markdown",
   "id": "0d190592",
   "metadata": {
    "slideshow": {
     "slide_type": "subslide"
    }
   },
   "source": [
    "[Xarray](https://xarray.pydata.org/en/latest/) and [Dask](https://docs.dask.org/en/latest/) Address Those Challenges.\n",
    "\n",
    "* Xarray provides a high level programming interface for labelled multi-dimensional arrays\n",
    "  that maps especially well to handling NetCDF-4 model results.\n",
    "\n",
    "* Dask provides a flexible parallel computing framework for operating on extremely large\n",
    "  datasets without loading them into memory."
   ]
  },
  {
   "attachments": {},
   "cell_type": "markdown",
   "id": "433cbbfb",
   "metadata": {
    "slideshow": {
     "slide_type": "subslide"
    }
   },
   "source": [
    "`xarray.open_mfdataset()`!!\n",
    "\n",
    "* Abstracts away the challenge of operating on tens or hundreds of multi-gigabyte files\n",
    "\n",
    "* Hides the factor of ~5 expansion of the in-memory size of the data compared to the file sizes"
   ]
  },
  {
   "cell_type": "markdown",
   "id": "71523e15",
   "metadata": {
    "slideshow": {
     "slide_type": "fragment"
    }
   },
   "source": [
    "<img src=\"https://upload.wikimedia.org/wikipedia/commons/thumb/e/e0/SNice.svg/1200px-SNice.svg.png\" alt=\":-)\" width=50/>\n",
    "... for a while ..."
   ]
  },
  {
   "cell_type": "markdown",
   "id": "a9a2aeb0",
   "metadata": {
    "slideshow": {
     "slide_type": "fragment"
    }
   },
   "source": [
    "Then, confusion and disappointment:\n",
    "\n",
    "* Slow, at best, or failure due to exhausting the physical and virtual memory "
   ]
  },
  {
   "cell_type": "markdown",
   "id": "8196e191",
   "metadata": {
    "slideshow": {
     "slide_type": "fragment"
    }
   },
   "source": [
    "<img src=\"https://cdn-0.emojis.wiki/emoji-pics/google/crying-face-google.png\" alt=\":-(\" width=50/>"
   ]
  },
  {
   "cell_type": "markdown",
   "id": "9ff690a4",
   "metadata": {
    "slideshow": {
     "slide_type": "subslide"
    }
   },
   "source": [
    "Why the Sadness?\n",
    "\n",
    "* Dask's task graph architecture\n",
    "\n",
    "* Threads, processes, cluster, schedulers ...\n",
    "\n",
    "* ... And chunking in conjunction with those things"
   ]
  },
  {
   "cell_type": "code",
   "execution_count": null,
   "id": "dd64d6c9",
   "metadata": {},
   "outputs": [],
   "source": []
  }
 ],
 "metadata": {
  "celltoolbar": "Slideshow",
  "kernelspec": {
   "display_name": "Python 3 (ipykernel)",
   "language": "python",
   "name": "python3"
  },
  "language_info": {
   "codemirror_mode": {
    "name": "ipython",
    "version": 3
   },
   "file_extension": ".py",
   "mimetype": "text/x-python",
   "name": "python",
   "nbconvert_exporter": "python",
   "pygments_lexer": "ipython3",
   "version": "3.10.5"
  }
 },
 "nbformat": 4,
 "nbformat_minor": 5
}
