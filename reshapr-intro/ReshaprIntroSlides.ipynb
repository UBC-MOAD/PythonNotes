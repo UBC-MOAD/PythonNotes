{
 "cells": [
  {
   "cell_type": "markdown",
   "id": "4e0c7dc9",
   "metadata": {
    "slideshow": {
     "slide_type": "slide"
    }
   },
   "source": [
    "# Intro to Reshapr\n",
    "\n",
    "MOAD Group Software Presentation & Discussion\n",
    "\n",
    "5 Aug 2022"
   ]
  },
  {
   "cell_type": "markdown",
   "id": "e607c70a",
   "metadata": {
    "slideshow": {
     "slide_type": "skip"
    }
   },
   "source": [
    "This notebook can be viewed as a slideshow by using the \n",
    "[RISE](https://rise.readthedocs.io/en/stable/index.html])\n",
    "slide show extension for Jupyter.\n",
    "\n",
    "*Note: RISE only works with `jupyter notebook`, not with `jupyter lab` :-(*\n",
    "\n",
    "If you are working in an up to date clone of the \n",
    "[UBC-MOAD/PythonNotes repo](https://github.com/UBC-MOAD/PythonNotes),\n",
    "you can run the slideshow locally.\n",
    "To do so:\n",
    "* create an conda environment containing `jupyter` and `rise` with:\n",
    "```bash\n",
    "conda env create -f PythonNotes/reshapr-intro/environment.yaml\n",
    "```\n",
    "* start `jupyter notebook`\n",
    "* open `PythonNotes/reshapr-intro/ReshaprIntroSlides.ipynb`\n",
    "* use `Alt+r` or the `Enter/Exit RISE Slideshow` toobar button to start/stop the slideshow mode\n",
    "* use `Space` and `Shift+Space` to navigate forward and backward through the slide cells"
   ]
  },
  {
   "cell_type": "markdown",
   "id": "539b4abc",
   "metadata": {
    "slideshow": {
     "slide_type": "slide"
    }
   },
   "source": [
    "# Reshapr\n",
    "\n",
    "* Python package\n",
    "* Command-line tool\n",
    "* Based on Xarray and Dask\n",
    "* Extraction of model variable time series from model products\n",
    "* SalishSeaCast, HRDPS, (maybe CANESM2/CGCM4)"
   ]
  },
  {
   "cell_type": "markdown",
   "id": "b8eeb4f6",
   "metadata": {
    "slideshow": {
     "slide_type": "slide"
    }
   },
   "source": [
    "# Outline\n",
    "\n",
    "* Motivation\n",
    "* Code, Docs & Installation\n",
    "* A Taste of Using Reshapr\n",
    "* Discovery - `reshapr --help` and `reshapr info`\n",
    "* Extraction - `reshapr extract` & Extraction Configurations\n",
    "    * Time Series Extraction\n",
    "    * Temporal & Spatial Selection\n",
    "    * Resampling & Aggregation\n",
    "* Give Me Your Use Cases and Bugs!\n",
    "* Model Profiles\n",
    "* Dask Cluster Configurations\n",
    "* Discussion"
   ]
  },
  {
   "cell_type": "markdown",
   "id": "884bd418",
   "metadata": {
    "slideshow": {
     "slide_type": "slide"
    }
   },
   "source": [
    "# Motivation"
   ]
  },
  {
   "cell_type": "markdown",
   "id": "d582c878",
   "metadata": {
    "slideshow": {
     "slide_type": "fragment"
    }
   },
   "source": [
    "* Ocean, climate & atmospheric model outputs are netCDF4 files"
   ]
  },
  {
   "cell_type": "markdown",
   "id": "a6485b71",
   "metadata": {
    "slideshow": {
     "slide_type": "fragment"
    }
   },
   "source": [
    "* Time series of model variables/fields are interesting and useful\n",
    "\n",
    "<img src=\"https://salishsea.eos.ubc.ca/nowcast-green/02aug22/nitrate_diatoms_timeseries_02aug22.svg\" alt=\"Recent nitrate & diatom concentrations at S3\" />"
   ]
  },
  {
   "cell_type": "markdown",
   "id": "1f773541",
   "metadata": {
    "slideshow": {
     "slide_type": "slide"
    }
   },
   "source": [
    "# Motivation\n",
    "\n",
    "* Ocean, climate & atmospheric model outputs are netCDF4 files\n",
    "\n",
    "\n",
    "* Time series of model variables/fields are interesting and useful\n",
    "\n",
    "\n",
    "* Variable values for time series are stored across many files (daily-ish or monthly-ish)\n",
    "* Files usually contain more variables than you're interested in"
   ]
  },
  {
   "cell_type": "markdown",
   "id": "add77a44",
   "metadata": {
    "slideshow": {
     "slide_type": "fragment"
    }
   },
   "source": [
    "* Files are large:\n",
    "  24 hours, 40 depths levels, 398 x 898 x-y grid points of SalishSeaCast biology is 2.1 Gb on disk"
   ]
  },
  {
   "cell_type": "markdown",
   "id": "f7dce29a",
   "metadata": {
    "slideshow": {
     "slide_type": "fragment"
    }
   },
   "source": [
    "* ~10 Gb in memory due to ~80% deflation when models write files"
   ]
  },
  {
   "cell_type": "markdown",
   "id": "1372dac1",
   "metadata": {
    "slideshow": {
     "slide_type": "fragment"
    }
   },
   "source": [
    "* Time series extraction = dealing with multiple files that exceed memory size if all loaded at once,\n",
    "  and that have a computational cost to simply open due to the necessary data decompression"
   ]
  },
  {
   "cell_type": "markdown",
   "id": "7e498c51",
   "metadata": {
    "slideshow": {
     "slide_type": "subslide"
    }
   },
   "source": [
    "[Xarray](https://xarray.pydata.org/en/latest/) and [Dask](https://docs.dask.org/en/latest/) Address Those Challenges\n",
    "\n",
    "* Xarray provides a high level programming interface for labelled multi-dimensional arrays\n",
    "  that maps especially well to handling netCDF4 model results.\n",
    "\n",
    "* Dask provides a flexible parallel computing framework for operating on extremely large\n",
    "  datasets without loading them into memory."
   ]
  },
  {
   "cell_type": "markdown",
   "id": "433cbbfb",
   "metadata": {
    "slideshow": {
     "slide_type": "subslide"
    }
   },
   "source": [
    "`xarray.open_dataset()` ➛ `xarray.open_mfdataset()`!!\n",
    "\n",
    "* Abstracts away the challenge of operating on tens or hundreds of multi-gigabyte files\n",
    "\n",
    "* Hides the factor of ~5 expansion of the in-memory size of the data compared to the file sizes"
   ]
  },
  {
   "cell_type": "markdown",
   "id": "71523e15",
   "metadata": {
    "slideshow": {
     "slide_type": "fragment"
    }
   },
   "source": [
    "<img src=\"https://upload.wikimedia.org/wikipedia/commons/thumb/e/e0/SNice.svg/1200px-SNice.svg.png\" alt=\":-)\" width=50/>\n",
    "... for a while ..."
   ]
  },
  {
   "cell_type": "markdown",
   "id": "a9a2aeb0",
   "metadata": {
    "slideshow": {
     "slide_type": "fragment"
    }
   },
   "source": [
    "Then, confusion and disappointment:\n",
    "\n",
    "* Slow, at best, or failure due to exhausting the physical and virtual memory \n",
    "\n",
    "<img src=\"https://cdn-0.emojis.wiki/emoji-pics/google/crying-face-google.png\" alt=\":-(\" width=50/>"
   ]
  },
  {
   "cell_type": "markdown",
   "id": "b06194dc",
   "metadata": {
    "slideshow": {
     "slide_type": "subslide"
    }
   },
   "source": [
    "Why the Sadness?\n",
    "\n",
    "* Dask's task graph architecture\n",
    "\n",
    "* Threads, processes, cluster, schedulers ...\n",
    "\n",
    "* Compute latency vs. input/output latency ...\n",
    "\n",
    "* ... And chunking in conjunction with those things\n",
    "\n",
    "<img src=\"https://s3.amazonaws.com/pix.iemoji.com/images/emoji/apple/ios-12/256/exploding-head.png\" alt=\"=-(\" width=50/>"
   ]
  },
  {
   "cell_type": "markdown",
   "id": "df270e13",
   "metadata": {
    "slideshow": {
     "slide_type": "slide"
    }
   },
   "source": [
    "# Code, Docs & Installation\n",
    "\n",
    "Code: https://github.com/UBC-MOAD/Reshapr\n",
    "\n",
    "Docs: https://reshapr.readthedocs.io/en/latest/"
   ]
  },
  {
   "cell_type": "markdown",
   "id": "aa2d1c6c",
   "metadata": {
    "slideshow": {
     "slide_type": "subslide"
    }
   },
   "source": [
    "# Installation\n",
    "\n",
    "Install on `/ocean/` (e.g. `/ocean/dlatorne/MOAD/Reshapr/`) because `salish` is where you want to run Reshapr.\n",
    "\n",
    "1. Clone the repo: `git clone git@github.com:UBC-MOAD/Reshapr.git`\n",
    "\n",
    "2. Go into the Reshapr directory: `cd Reshapr`\n",
    "\n",
    "3. Build a conda env: `conda env create -f envs/environment-user.yaml`\n",
    "\n",
    "4. Activate the env: `conda activate reshapr`\n",
    "\n",
    "5. Install the package: `python3 -m pip install --editable .`\n",
    "\n",
    "6. Confirm your installation: `reshapr info` or `reshapr --version`\n",
    "\n",
    "[Installation docs](https://reshapr.readthedocs.io/en/latest/installation.html)"
   ]
  },
  {
   "cell_type": "markdown",
   "id": "01874c66",
   "metadata": {
    "slideshow": {
     "slide_type": "subslide"
    }
   },
   "source": [
    "Other details about:\n",
    "\n",
    "* updating your installation\n",
    "* adding Reshapr to your own conda env\n",
    "* uninstalling\n",
    "\n",
    "are also in the docs and in some appendix slides below."
   ]
  },
  {
   "cell_type": "markdown",
   "id": "e1ab2171",
   "metadata": {
    "slideshow": {
     "slide_type": "slide"
    }
   },
   "source": [
    "# A Taste of Using Reshapr\n",
    "\n",
    "Raisha needs day-averaged diatoms fields from the 15 complete years of 201905\n",
    "to construct forcing files for Atlantis that will \"nudge\" its calculated diatoms\n",
    "toward the SalishSeaCast values.\n",
    "The files need to contain the lons and lats of the grid.\n",
    "They need to be in NETCDF4_CLASSIC format.\n",
    "\n",
    "We'll do a month of that extraction:\n",
    "\n",
    "`reshapr extract docs/examples/extract_atlantis_diatoms.yaml`\n",
    "\n",
    "Demo ..."
   ]
  },
  {
   "cell_type": "markdown",
   "id": "99e2fa93",
   "metadata": {
    "slideshow": {
     "slide_type": "subslide"
    }
   },
   "source": [
    "```yaml\n",
    "# reshapr extract processing configuration for diatoms nudging field\n",
    "# for Atlantis ecosystem model\n",
    "\n",
    "dataset:\n",
    "  model profile: SalishSeaCast-201905.yaml\n",
    "  time base: day\n",
    "  variables group: biology\n",
    "\n",
    "dask cluster: salish_cluster.yaml\n",
    "\n",
    "start date: 2007-01-01\n",
    "end date: 2021-12-31\n",
    "\n",
    "extract variables:\n",
    "  - diatoms\n",
    "\n",
    "include lons lats: True\n",
    "\n",
    "extracted dataset:\n",
    "  name: SalishSeaCast_day_avg_diatoms\n",
    "  description: Day-averaged diatoms biomass extracted from SalishSeaCast v201905 hindcast\n",
    "  format: NETCDF4_CLASSIC\n",
    "  dest dir: /ocean/dlatorne/Atlantis/day-avg-diatoms/\n",
    "```"
   ]
  },
  {
   "cell_type": "markdown",
   "id": "b6f2e5fd",
   "metadata": {
    "slideshow": {
     "slide_type": "slide"
    }
   },
   "source": [
    "# Discovery\n",
    "\n",
    "Reshapr can tell you:\n",
    "\n",
    "* about itself\n",
    "\n",
    "* how to use it\n",
    "\n",
    "* about the model products is knows how to process\n",
    "\n",
    "* about the Dask clusters it can use for that processing\n",
    "\n",
    "Demo ..."
   ]
  },
  {
   "cell_type": "markdown",
   "id": "051bd663",
   "metadata": {
    "slideshow": {
     "slide_type": "subslide"
    }
   },
   "source": [
    "* \"Tell me about yourself\"\n",
    "\n",
    "  `reshapr --help`\n",
    "\n",
    "* \"Tell me how to do an extraction\"\n",
    "\n",
    "  `reshapr extract --help`\n",
    "\n",
    "* \"Tell how to find out what you know about\"\n",
    "  \n",
    "  `reshapr info --help`\n",
    "\n",
    "* \"Tell what you know about\"\n",
    "\n",
    "  `reshapr info`\n",
    "\n",
    "* \"Tell what you know about SalishSeaCast 201905\"\n",
    "\n",
    "  `reshapr info SalishSeaCast-201905`\n",
    "\n",
    "* \"Tell what you know about SalishSeaCast 201905 day-averaged biology\"\n",
    "\n",
    "  `reshapr info SalishSeaCast-201905 day biology`"
   ]
  },
  {
   "cell_type": "markdown",
   "id": "86fb62b7",
   "metadata": {
    "slideshow": {
     "slide_type": "slide"
    }
   },
   "source": [
    "# Extraction\n",
    "\n",
    "* Time Series Extraction\n",
    "\n",
    "* Temporal & Spatial Selection\n",
    "\n",
    "* Resampling & Aggregation"
   ]
  },
  {
   "cell_type": "markdown",
   "id": "86ddd952",
   "metadata": {
    "slideshow": {
     "slide_type": "slide"
    }
   },
   "source": [
    "# Time Series Extraction"
   ]
  },
  {
   "cell_type": "markdown",
   "id": "ed390f4c",
   "metadata": {
    "slideshow": {
     "slide_type": "subslide"
    }
   },
   "source": [
    "```yaml\n",
    "dataset:\n",
    "  model profile: SalishSeaCast-201905.yaml\n",
    "  time base: day\n",
    "  variables group: biology\n",
    "\n",
    "dask cluster: salish_cluster.yaml\n",
    "\n",
    "start date: 2007-01-01\n",
    "end date: 2007-01-31\n",
    "\n",
    "extract variables:\n",
    "  - diatoms\n",
    "\n",
    "extracted dataset:\n",
    "  name: SalishSeaCast_day_avg_diatoms\n",
    "  description: Day-averaged diatoms biomass extracted from SalishSeaCast v201905 hindcast\n",
    "  dest dir: /ocean/dlatorne/\n",
    "```"
   ]
  },
  {
   "cell_type": "markdown",
   "id": "6795d41a",
   "metadata": {
    "slideshow": {
     "slide_type": "subslide"
    }
   },
   "source": [
    "# YAML File Details\n",
    "\n",
    "* Use `reshapr info` to get most of the contents of the YAML file:\n",
    "\n",
    "  * `model profile`\n",
    "  * `time base`\n",
    "  * `variable group`\n",
    "  * list of variables in `extract variables`\n",
    "  \n",
    "* Output will be stored in location given by `dest dir`\n",
    "\n",
    "* Output file name will be value of `name` with `start date`, `end date`, and `.nc` appended; e.g. :\n",
    "    \n",
    "    `SalishSeaCast_day_avg_diatoms_20070101_20070131.nc`"
   ]
  },
  {
   "cell_type": "markdown",
   "id": "55cd8213",
   "metadata": {
    "slideshow": {
     "slide_type": "subslide"
    }
   },
   "source": [
    "# Output File Details\n",
    "\n",
    "* Time coordinate is named `time`\n",
    "\n",
    "* Depth coordinate is named `depth`\n",
    "\n",
    "* y and x grid index coordinates are named `gridY` and `gridX`\n",
    "\n",
    "* If requested, longitude and latitude are variables named `longitude` and `latitude` with coordinates `gridY` and `gridX`\n",
    "\n",
    "* Default storage settings are for best space-efficiency\n",
    "\n",
    "* Adequate, consistent variable and coordinate metadata, and dataset metadata\n",
    "\n",
    "* None of the extraneous NEMO variables and coordinates\n",
    "\n",
    "Demo with `ncdump -cst` ..."
   ]
  },
  {
   "cell_type": "markdown",
   "id": "f6590337",
   "metadata": {
    "slideshow": {
     "slide_type": "subslide"
    }
   },
   "source": [
    "# Best Practises\n",
    "\n",
    "* Start small, then scale up\n",
    "\n",
    "  * 1 variable\n",
    "  * a few days\n",
    "  \n",
    "* Only extract the variables, time range, spatial regions, you need\n",
    "\n",
    "  * More variables and longer time range make the Dask task graph larger and more complicated\n",
    "  * Limiting depth, y, and x ranges reduces memory size and maybe task graph; allows more concurrent tasks"
   ]
  },
  {
   "cell_type": "markdown",
   "id": "90e326e6",
   "metadata": {
    "slideshow": {
     "slide_type": "slide"
    }
   },
   "source": [
    "# Temporal & Spatial Selection"
   ]
  },
  {
   "cell_type": "markdown",
   "id": "e3c129ff",
   "metadata": {
    "slideshow": {
     "slide_type": "subslide"
    }
   },
   "source": [
    "```yaml\n",
    "dataset:\n",
    "  model profile: SalishSeaCast-201812.yaml\n",
    "  time base: hour\n",
    "  variables group: biology\n",
    "\n",
    "dask cluster: salish_cluster.yaml\n",
    "\n",
    "start date: 2015-01-01\n",
    "end date: 2015-01-10\n",
    "\n",
    "extract variables:\n",
    "  - diatoms\n",
    "  - nitrate\n",
    "\n",
    "selection:\n",
    "  time interval: 3  # multiple of dataset: time base\n",
    "  depth:\n",
    "    depth min: 0\n",
    "    depth max: 25\n",
    "    depth interval: 2  # multiple of depth index; e.g. 2 means every 2nd depth\n",
    "  grid y:\n",
    "    y min: 600\n",
    "    y max: 700\n",
    "    y interval: 10  # multiple of grid y index; e.g. 10 means every 10th grid point\n",
    "  grid x:\n",
    "    x min: 100\n",
    "    x max: 300\n",
    "    x interval: 5  # multiple of grid x index; e.g. 5 means every 5th grid point\n",
    "\n",
    "extracted dataset:\n",
    "  name: SalishSeaCast_hour_avg_biology_3h\n",
    "  description: Hour-averaged diatoms biomass and nitrate every 3rd hour extracted from SalishSeaCast v201812 hindcast\n",
    "  dest dir: /ocean/dlatorne/\n",
    "```"
   ]
  },
  {
   "cell_type": "markdown",
   "id": "e280bf64",
   "metadata": {
    "slideshow": {
     "slide_type": "subslide"
    }
   },
   "source": [
    "Selection parameters all have sensible defaults so you can leave out coordinates you don't want to limit:\n",
    "\n",
    "* default `time interval`, `depth interval`, `y interval`, and `x interval` are `1`\n",
    "* default `depth min`, `y min`, and `x min` are `0`\n",
    "* default `depth max`, `y max`, and `x max` are full grid extent\n",
    "\n",
    "Presently you have to handle the 0-based indexing +1 on the max values,\n",
    "but that will be fixed (https://github.com/UBC-MOAD/Reshapr/issues/38)."
   ]
  },
  {
   "cell_type": "markdown",
   "id": "b8cd5893",
   "metadata": {
    "slideshow": {
     "slide_type": "slide"
    }
   },
   "source": [
    "# Resampling & Aggregation"
   ]
  },
  {
   "cell_type": "markdown",
   "id": "4d2ff9f0",
   "metadata": {
    "slideshow": {
     "slide_type": "subslide"
    }
   },
   "source": [
    "```yaml\n",
    "dataset:\n",
    "  model profile: SalishSeaCast-201905.yaml\n",
    "  time base: day\n",
    "  variables group: biology\n",
    "\n",
    "dask cluster: salish_cluster.yaml\n",
    "\n",
    "start date: 2009-02-01\n",
    "end date: 2009-02-28\n",
    "\n",
    "extract variables:\n",
    "  - diatoms\n",
    "  - nitrate\n",
    "\n",
    "resample:\n",
    "  # A pandas time series frequency offset alias\n",
    "  # with an optional multiplier digit prefix\n",
    "  time interval: 1M\n",
    "  # An xarray dataset reduction method to use for aggregation.\n",
    "  # See the \"resampling and grouped operations\" sub-section in the Time Series Data\n",
    "  # section fo the xarray User Guide.\n",
    "  # default: mean\n",
    "  aggregation: mean\n",
    "\n",
    "extracted dataset:\n",
    "  name: SalishSeaCast_1m_ptrc_T\n",
    "  description: Month-averaged diatoms biomass and nitrate extracted from SalishSeaCast v201905 hindcast\n",
    "  deflate: True\n",
    "  format: NETCDF4\n",
    "  dest dir: /ocean/dlatorne/\n",
    "```"
   ]
  },
  {
   "cell_type": "markdown",
   "id": "8e7f7665",
   "metadata": {
    "slideshow": {
     "slide_type": "subslide"
    }
   },
   "source": [
    "Selection and resampling can be combined.\n",
    "Selection happens first, then resampling.\n",
    "\n",
    "Down-sampling implies aggregation.\n",
    "\n",
    "Up-sampling might work, but hasn't been tested.\n",
    "If it doesn't work, it could probably be made to.\n",
    "\n",
    "Pandas time series frequency offset aliases can be tricky!\n",
    "\n",
    "* The syntax can be non-intuitive: check the docs at \n",
    "  https://pandas.pydata.org/docs/user_guide/timeseries.html#dateoffset-objects\n",
    "  \n",
    "* The results can be non-intuitive:\n",
    "  For Karyn's 5-year average biology extraction I discovered that I had to use\n",
    "  `1826D` rather than `5A`. Maybe because of leapyear, but I'm not sure."
   ]
  },
  {
   "cell_type": "markdown",
   "id": "c218a323",
   "metadata": {
    "slideshow": {
     "slide_type": "slide"
    }
   },
   "source": [
    "# Give Me Your Use Cases and Bugs!\n",
    "\n",
    "* 100% you will think of things to do with Reshapr that I haven't thought of\n",
    "  \n",
    "  * Tell me about them and we'll figure out how to do them \n",
    "    or try to figure out how to add code to make them possible\n",
    "    \n",
    "  * Even if it \"just works\" for something that is not in the\n",
    "    [use examples docs](https://reshapr.readthedocs.io/en/latest/examples/index.html),\n",
    "    adding a new use example blurb and YAML file is a Good Thing™\n",
    "    \n",
    "* If Reshapr raises an exception and gives you a traceback, that is a bug and I want to know about it!\n",
    "\n",
    "  * Please tell me somehow!\n",
    "  \n",
    "  * My preference is the [issue tracker](https://github.com/UBC-MOAD/Reshapr/issues) but any channel will do!"
   ]
  },
  {
   "cell_type": "markdown",
   "id": "7f63d116",
   "metadata": {
    "slideshow": {
     "slide_type": "slide"
    }
   },
   "source": [
    "# Model Profiles\n",
    "\n",
    "YAML files that provide a standardized interface for the details of different model's netCDF-4 files\n",
    "\n",
    "* Coordinate names\n",
    "* Chunk sizes\n",
    "* Mapping between y-x grid indices and lons/lats\n",
    "* Time origin for extractions\n",
    "* Path where model product files are stored\n",
    "* File path/name patterns and depth coordinates for variable group files\n",
    "\n",
    "All the details in docs at https://reshapr.readthedocs.io/en/latest/model_profiles.html"
   ]
  },
  {
   "cell_type": "markdown",
   "id": "fcaea7d5",
   "metadata": {
    "slideshow": {
     "slide_type": "slide"
    }
   },
   "source": [
    "# Dask Cluster Configurations\n",
    "\n",
    "YAML files that provide details of Dask clusters to use for extractions\n",
    "\n",
    "A key part of keeping the `xarray.open_mfdatset()` sadness away!\n",
    "\n",
    "For now there is only `salish_cluster`.\n",
    "MPI cluster config for `graham` or other HPC systems are possible."
   ]
  },
  {
   "cell_type": "markdown",
   "id": "64fd7e9f",
   "metadata": {
    "slideshow": {
     "slide_type": "subslide"
    }
   },
   "source": [
    "# On-Demand vs. Persistent Clusters\n",
    "\n",
    "## On-Demand\n",
    "\n",
    "* Highly recommended!\n",
    "\n",
    "* Cluster is started for your extraction and shut down when it finishes\n",
    "\n",
    "* Put the cluster config file name in your extraction YAML:\n",
    "\n",
    "  `dask cluster: salish_cluster.yaml`\n",
    "  \n",
    "## Persistent Cluster\n",
    "\n",
    "* Launch scheduler and workers in `tmux` terminals;\n",
    "  docs at: https://reshapr.readthedocs.io/en/latest/dask_clusters.html#persistent-cluster\n",
    "\n",
    "* I used one for month-by-month calculation of averages for hindcast: \n",
    "  hundreds of `reshapr extract` runs in a loop\n",
    "  \n",
    "* If everyone tries to run their own persistent cluster on `salish` there will be sadness!"
   ]
  },
  {
   "cell_type": "markdown",
   "id": "9316094f",
   "metadata": {
    "slideshow": {
     "slide_type": "subslide"
    }
   },
   "source": [
    "# Cluster Monitoring\n",
    "\n",
    "Dask clusters have a web dashboard that can be used for monitoring and analysis of the processing.\n",
    "Mostly blinking lights :-)\n",
    "\n",
    "See step 5 in persistent cluster docs at \n",
    "https://reshapr.readthedocs.io/en/latest/dask_clusters.html#persistent-cluster\n",
    "\n",
    "[Matthew Rocklin YouTube video about the dashboard](https://www.youtube.com/watch?v=N_GqzcuGLCY)"
   ]
  },
  {
   "cell_type": "markdown",
   "id": "d98a7b9a",
   "metadata": {
    "slideshow": {
     "slide_type": "slide"
    }
   },
   "source": [
    "# Discussion"
   ]
  },
  {
   "cell_type": "markdown",
   "id": "05e61fc5",
   "metadata": {
    "slideshow": {
     "slide_type": "slide"
    }
   },
   "source": [
    "# Appendix Slides"
   ]
  },
  {
   "cell_type": "markdown",
   "id": "1d17b476",
   "metadata": {
    "slideshow": {
     "slide_type": "subslide"
    }
   },
   "source": [
    "# Updating Your Installation\n",
    "\n",
    "1. Pull from GitHub: `git pull`\n",
    "\n",
    "2. On rare occassions (I'll tell you when): `python3 -m pip install --editable .`"
   ]
  },
  {
   "cell_type": "markdown",
   "id": "0951e9c1",
   "metadata": {
    "slideshow": {
     "slide_type": "subslide"
    }
   },
   "source": [
    "# Adding Reshapr to Your Own Conda Env\n",
    "\n",
    "**Python 3.10 or later !!!**\n",
    "\n",
    "1. Edit your env description YAML file to add packages that are in `envs/environment-user.yaml`\n",
    "\n",
    "2. Update your env: `conda env update -f your-env-yaml`\n",
    "\n",
    "3. Install Reshapr: `python3 -m pip install --editable path/to/Reshapr`"
   ]
  },
  {
   "cell_type": "markdown",
   "id": "1857e988",
   "metadata": {
    "slideshow": {
     "slide_type": "subslide"
    }
   },
   "source": [
    "# Uninstalling\n",
    "\n",
    "See the docs: https://reshapr.readthedocs.io/en/latest/installation.html#uninstalling"
   ]
  }
 ],
 "metadata": {
  "celltoolbar": "Slideshow",
  "kernelspec": {
   "display_name": "Python 3 (ipykernel)",
   "language": "python",
   "name": "python3"
  },
  "language_info": {
   "codemirror_mode": {
    "name": "ipython",
    "version": 3
   },
   "file_extension": ".py",
   "mimetype": "text/x-python",
   "name": "python",
   "nbconvert_exporter": "python",
   "pygments_lexer": "ipython3",
   "version": "3.10.5"
  }
 },
 "nbformat": 4,
 "nbformat_minor": 5
}
