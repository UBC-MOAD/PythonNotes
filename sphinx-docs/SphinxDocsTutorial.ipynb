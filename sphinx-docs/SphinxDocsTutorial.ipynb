{
 "cells": [
  {
   "cell_type": "markdown",
   "id": "israeli-checklist",
   "metadata": {},
   "source": [
    "# Sphinx Documentation Tutorial\n",
    "\n",
    "Notes from 11-Mar-2021 Sphinx documentation tutorial for MOAD group members.\n",
    "\n",
    "`environment.yaml` is a conda environment description that includes the packages discussed in the tutorial"
   ]
  },
  {
   "cell_type": "markdown",
   "id": "lesbian-liberia",
   "metadata": {},
   "source": [
    "## Outline\n",
    "\n",
    "* Key concept: text processing in contrast to word processor software\n",
    "* Sphinx docs tools and pipeline\n",
    "* reStructuredText syntax\n",
    "* Sphinx roles and directives"
   ]
  },
  {
   "cell_type": "markdown",
   "id": "delayed-railway",
   "metadata": {},
   "source": [
    "## References\n",
    "\n",
    "* MOAD docs about using Sphinx:\n",
    "      https://ubc-moad-docs.readthedocs.io/en/latest/sphinx_docs.html\n",
    "* Sphinx docs, official and detailed:\n",
    "      https://www.sphinx-doc.org/en/master/\n",
    "* Eric Holscher's Sphinx and Read the Docs tutorial, a little old, but includes a great reStructuredText cheat sheet:\n",
    "      https://sphinx-tutorial.readthedocs.io/\n",
    "* Chris Holdgraf's Zero to Docs tutorial, less complete than Eric's, but a different take:\n",
    "      https://docathon.github.io/zero_to_docs/index.html\n",
    "\n",
    "\n",
    "* Docs for `nbsphinx` extension to parser Jupyter Notebooks into pages in Sphinx docs:\n",
    "      https://nbsphinx.readthedocs.io/en/0.8.2/\n",
    "\n",
    "\n",
    "* Docs for MyST parser that using extended Markdown syntax in Sphinx, new-ish, not enabled in any of our docs repositories (yet?):\n",
    "      https://myst-parser.readthedocs.io/en/latest/index.html"
   ]
  },
  {
   "cell_type": "markdown",
   "id": "sixth-postcard",
   "metadata": {},
   "source": [
    "## Tools and Pipeline"
   ]
  },
  {
   "cell_type": "markdown",
   "id": "different-seller",
   "metadata": {},
   "source": [
    "## reStructuredText (rST) Syntax"
   ]
  },
  {
   "cell_type": "markdown",
   "id": "stainless-angel",
   "metadata": {},
   "source": [
    "## Sphinx Roles & Directives"
   ]
  },
  {
   "cell_type": "code",
   "execution_count": null,
   "id": "greater-belle",
   "metadata": {},
   "outputs": [],
   "source": []
  }
 ],
 "metadata": {
  "kernelspec": {
   "display_name": "Python 3",
   "language": "python",
   "name": "python3"
  },
  "language_info": {
   "codemirror_mode": {
    "name": "ipython",
    "version": 3
   },
   "file_extension": ".py",
   "mimetype": "text/x-python",
   "name": "python",
   "nbconvert_exporter": "python",
   "pygments_lexer": "ipython3",
   "version": "3.9.2"
  }
 },
 "nbformat": 4,
 "nbformat_minor": 5
}
