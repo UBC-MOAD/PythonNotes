{
 "cells": [
  {
   "cell_type": "markdown",
   "metadata": {
    "slideshow": {
     "slide_type": "slide"
    }
   },
   "source": [
    "# Python Packages and Environments\n",
    "\n",
    "## What to use Where, and Why\n",
    "\n",
    "### MOAD Group Software Discussion\n",
    "### ??-Nov-2020"
   ]
  },
  {
   "cell_type": "markdown",
   "metadata": {
    "slideshow": {
     "slide_type": "skip"
    }
   },
   "source": [
    "This notebook can be viewed as a slideshow by using the \n",
    "(RISE)[https://rise.readthedocs.io/en/stable/index.html] \n",
    "slide show extension for Jupyter.\n",
    "\n",
    "*Note: RISE only works with `jupyter notebook`, not with `jupyter lab` :-(*\n",
    "\n",
    "If you are working in an up to date clone of the \n",
    "(UBC-MOAD/PythonNotes repo)[https://github.com/UBC-MOAD/PythonNotes],\n",
    "you can run the slideshow locally.\n",
    "To do so:\n",
    "* create an conda environment containing `jupyter` and `rise` with:\n",
    "```bash\n",
    "conda env create -f PythonNotes/pkgs-envs/environment.yaml\n",
    "```\n",
    "* start `jupyter notebook`\n",
    "* open `PythonNotes/pkgs-envs/PythonPkgsEnvsSlides.ipynb`\n",
    "* use `Alt+r` or the `Enter/Exit RISE Slideshow` toobar button to start/stop the slideshow mode\n",
    "* use `Space` and `Shift+Space` to navigate forward and backward through the slide cells"
   ]
  },
  {
   "cell_type": "markdown",
   "metadata": {
    "slideshow": {
     "slide_type": "slide"
    }
   },
   "source": [
    "* What is a Python package?\n",
    "* What is a Python environment?"
   ]
  },
  {
   "cell_type": "markdown",
   "metadata": {
    "slideshow": {
     "slide_type": "fragment"
    }
   },
   "source": [
    "* 2 Python package managers: `conda` and `pip`\n",
    "* 2 Python environment managers: `conda env` and `virtualenv`\n",
    "* 4 ways to intall Python packages:\n",
    "    * `conda install ...`\n",
    "    * `pip install ...`\n",
    "    * `pip install -e ...`\n",
    "    * `pip install --user ...`"
   ]
  },
  {
   "cell_type": "markdown",
   "metadata": {
    "slideshow": {
     "slide_type": "fragment"
    }
   },
   "source": [
    "* What to use Where, and Why"
   ]
  },
  {
   "cell_type": "markdown",
   "metadata": {
    "slideshow": {
     "slide_type": "slide"
    }
   },
   "source": [
    "# Python Ecosystem\n",
    "\n",
    "* Interpreter  (https://docs.python.org/3/reference/index.html)\n",
    "    * Written in C"
   ]
  },
  {
   "cell_type": "markdown",
   "metadata": {
    "slideshow": {
     "slide_type": "fragment"
    }
   },
   "source": [
    "* Standard Library\n",
    "    * Built-in Functions, Built-in Constants, Built-in Exceptions\n",
    "      (https://docs.python.org/3/library/index.html)\n",
    "        * Also written in C\n",
    "\n",
    "    * Python modules that you `import`\n",
    "\n",
    "    * Included with the language"
   ]
  },
  {
   "cell_type": "markdown",
   "metadata": {
    "slideshow": {
     "slide_type": "fragment"
    }
   },
   "source": [
    "* Community Developed Packages\n",
    "    * Collections of Python modules that we install so that we can `import` things from them"
   ]
  },
  {
   "cell_type": "markdown",
   "metadata": {
    "slideshow": {
     "slide_type": "slide"
    }
   },
   "source": [
    "# Python Module\n",
    "\n",
    "* Python code in a `.py` file\n",
    "* Usually function definitions (`def`) and class definitions (`class`)\n",
    "* Everything in a module is executed when it is imported"
   ]
  },
  {
   "cell_type": "markdown",
   "metadata": {
    "slideshow": {
     "slide_type": "slide"
    }
   },
   "source": [
    "# Python Package\n",
    "\n",
    "* Collection of Python modules with some metadata\n",
    "* Obtained from package channels (conda-forge), \n",
    "  or indices (PyPI) on the Internet,\n",
    "  or code repository clones (GitHub, Bitbucket, GitLab, ...)\n",
    "* Mechanism for distributing Python code between users\n",
    "* Packages can depend on other packages; i.e. PackageA requires that PackageB is also installed in order to work"
   ]
  },
  {
   "cell_type": "code",
   "execution_count": null,
   "metadata": {},
   "outputs": [],
   "source": []
  }
 ],
 "metadata": {
  "celltoolbar": "Slideshow",
  "kernelspec": {
   "display_name": "Python 3",
   "language": "python",
   "name": "python3"
  },
  "language_info": {
   "codemirror_mode": {
    "name": "ipython",
    "version": 3
   },
   "file_extension": ".py",
   "mimetype": "text/x-python",
   "name": "python",
   "nbconvert_exporter": "python",
   "pygments_lexer": "ipython3",
   "version": "3.9.0"
  }
 },
 "nbformat": 4,
 "nbformat_minor": 4
}
