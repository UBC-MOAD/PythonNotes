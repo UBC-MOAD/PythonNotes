{
 "cells": [
  {
   "cell_type": "markdown",
   "metadata": {
    "slideshow": {
     "slide_type": "slide"
    }
   },
   "source": [
    "# Python Packages and Environments\n",
    "\n",
    "## What to use Where, and Why\n",
    "\n",
    "### MOAD Group Software Discussion\n",
    "### ??-Nov-2020"
   ]
  },
  {
   "cell_type": "markdown",
   "metadata": {
    "slideshow": {
     "slide_type": "skip"
    }
   },
   "source": [
    "This notebook can be viewed as a slideshow by using the \n",
    "(RISE)[https://rise.readthedocs.io/en/stable/index.html] \n",
    "slide show extension for Jupyter.\n",
    "\n",
    "*Note: RISE only works with `jupyter notebook`, not with `jupyter lab` :-(*\n",
    "\n",
    "If you are working in an up to date clone of the \n",
    "(UBC-MOAD/PythonNotes repo)[https://github.com/UBC-MOAD/PythonNotes],\n",
    "you can run the slideshow locally.\n",
    "To do so:\n",
    "* create an conda environment containing `jupyter` and `rise` with:\n",
    "```bash\n",
    "conda env create -f PythonNotes/pkgs-envs/environment.yaml\n",
    "```\n",
    "* start `jupyter notebook`\n",
    "* open `PythonNotes/pkgs-envs/PythonPkgsEnvsSlides.ipynb`\n",
    "* use `Alt+r` or the `Enter/Exit RISE Slideshow` toobar button to start/stop the slideshow mode\n",
    "* use `Space` and `Shift+Space` to navigate forward and backward through the slide cells"
   ]
  },
  {
   "cell_type": "markdown",
   "metadata": {
    "slideshow": {
     "slide_type": "slide"
    }
   },
   "source": [
    "* What is a Python package?\n",
    "* What is a Python environment?"
   ]
  },
  {
   "cell_type": "markdown",
   "metadata": {
    "slideshow": {
     "slide_type": "fragment"
    }
   },
   "source": [
    "* 2 Python package managers: `conda` and `pip`\n",
    "* 2 Python environment managers: `conda env` and `virtualenv`\n",
    "* 4 ways to intall Python packages:\n",
    "    * `conda install ...`\n",
    "    * `pip install ...`\n",
    "    * `pip install -e ...`\n",
    "    * `pip install --user ...`"
   ]
  },
  {
   "cell_type": "markdown",
   "metadata": {
    "slideshow": {
     "slide_type": "fragment"
    }
   },
   "source": [
    "* What to use Where, and Why"
   ]
  },
  {
   "cell_type": "markdown",
   "metadata": {
    "slideshow": {
     "slide_type": "slide"
    }
   },
   "source": [
    "# Python Ecosystem\n",
    "\n",
    "* Interpreter  (https://docs.python.org/3/reference/index.html)\n",
    "    * Written in C"
   ]
  },
  {
   "cell_type": "markdown",
   "metadata": {
    "slideshow": {
     "slide_type": "fragment"
    }
   },
   "source": [
    "* Standard Library\n",
    "    * Built-in Functions, Built-in Constants, Built-in Exceptions\n",
    "      (https://docs.python.org/3/library/index.html)\n",
    "        * Also written in C\n",
    "\n",
    "    * Python modules that you `import`\n",
    "\n",
    "    * Included with the language"
   ]
  },
  {
   "cell_type": "markdown",
   "metadata": {
    "slideshow": {
     "slide_type": "fragment"
    }
   },
   "source": [
    "* Community Developed Packages\n",
    "    * Collections of Python modules that we install so that we can `import` things from them"
   ]
  },
  {
   "cell_type": "markdown",
   "metadata": {
    "slideshow": {
     "slide_type": "subslide"
    }
   },
   "source": [
    "# Python Modules\n",
    "\n",
    "* Python code in a `.py` file\n",
    "* Usually function definitions (`def`) and class definitions (`class`)\n",
    "* Everything in a module is executed when it is imported"
   ]
  },
  {
   "cell_type": "markdown",
   "metadata": {
    "slideshow": {
     "slide_type": "subslide"
    }
   },
   "source": [
    "# Python Packages\n",
    "\n",
    "* Collection of Python modules with some metadata\n",
    "* Mechanism for distributing Python code between users\n",
    "* Obtained from package channels (conda-forge), \n",
    "  or indices (PyPI) on the Internet,\n",
    "  or code repository clones (GitHub, Bitbucket, GitLab, ...)\n",
    "  \n",
    "### Aside\n",
    "\n",
    "[Docs about how MOAD Python packages are structured, and why](https://ubc-moad-docs.readthedocs.io/en/latest/python_packaging/pkg_structure.html)"
   ]
  },
  {
   "cell_type": "markdown",
   "metadata": {
    "slideshow": {
     "slide_type": "subslide"
    }
   },
   "source": [
    "## Packages Give Us 2 Features/Challenges \n",
    "\n",
    "* Can include Python extensions written in C\n",
    "    * NumPy, SciPy, netCDF4, ...\n",
    "    * Compiler(s), libraries, build tools, etc. are required to install from source code\n",
    "* Packages can depend on other packages; i.e. PackageA requires that PackageB is also installed in order to work\n",
    "    * Leads to a web of dependencies\n",
    "    * Need to construct and solve a graph to satisfy package version constraints"
   ]
  },
  {
   "cell_type": "markdown",
   "metadata": {
    "slideshow": {
     "slide_type": "slide"
    }
   },
   "source": [
    "# Package Managers\n",
    "\n",
    "Because `sys.path.append(...)` doesn't scale 😱\n",
    "\n",
    "* Download packages we want to install,\n",
    "  and their dependencies,\n",
    "  from the Internet\n",
    "* Store the files where Python can find them\n",
    "\n",
    "## pip\n",
    "\n",
    "## conda\n",
    "\n",
    "#### Others past, and present"
   ]
  },
  {
   "cell_type": "markdown",
   "metadata": {
    "slideshow": {
     "slide_type": "subslide"
    }
   },
   "source": [
    "## pip\n",
    "\n",
    "* **p**ip **i**nstalls **p**ackages\n",
    "* But only from source code\n",
    "    * Until recently, when \"wheels\" were introduced\n",
    "* Naive dependency resolver\n",
    "    * Until very recently: \"new resolver\" in pip=20.2.4 released 2020-10-16\n",
    "* Package isolation is a separate (but highly recommended) story\n",
    "    * `pip install` ... permission denied\n",
    "    * ~`sudo pip install`~ 😱"
   ]
  },
  {
   "attachments": {},
   "cell_type": "markdown",
   "metadata": {
    "slideshow": {
     "slide_type": "subslide"
    }
   },
   "source": [
    "## conda\n",
    "\n",
    "Scientific Python community,\n",
    "lead by Travis Oliphant in 2012,\n",
    "couldn't wait for the Python Packaging Authority (PyPA)'s plans for pip and wheels to come to fruition"
   ]
  },
  {
   "attachments": {},
   "cell_type": "markdown",
   "metadata": {
    "slideshow": {
     "slide_type": "subslide"
    }
   },
   "source": [
    "## conda\n",
    "\n",
    "* Packages are built by maintainer, not users\n",
    "    * Solves the build problem for extensions\n",
    "    * Allows installation of binary packages that aren't even Python; e.g. gfortran\n",
    "    * Allows installation of different versions of Python itself\n",
    "* Meta-packages; e.g. anaconda\n",
    "* Dependency resolver looks at packages being installed *and* packages already installed\n",
    "    * But dependency resolution is still a hard problem...\n",
    "* Implicitly uses environments to isolate collections of packages\n",
    "* `pip` can be used inside `conda`-managed environments"
   ]
  },
  {
   "cell_type": "markdown",
   "metadata": {
    "slideshow": {
     "slide_type": "slide"
    }
   },
   "source": [
    "# Python Environments\n",
    "\n",
    "### Directory tree\n",
    "\n",
    "* In user file space where Python packages are installed\n",
    "* Isolates those packages from the system Python packages, avoiding:\n",
    "    * `pip install` ... permission denied\n",
    "    * ~`sudo pip install`~ 😱\n",
    "    * Breaking your operating system by overwriting Python packages it installed\n",
    "    \n",
    "### PATH environment variable manipulation\n",
    "\n",
    "* Ensure that the operating system finds the Python packages in the environment before it looks in the usual operating system places\n",
    "* Maybe other environment variables too"
   ]
  },
  {
   "cell_type": "markdown",
   "metadata": {
    "slideshow": {
     "slide_type": "slide"
    }
   },
   "source": [
    "# Installing to the User Site\n",
    "\n",
    "`python3 -m pip install --user package`\n",
    "\n",
    "* Limited usefulness\n",
    "* Really only for packages that provide a command-line interface\n",
    "  (i.e. not really about being able to `import` from the package)\n",
    "* Installs files into a hidden tree in your home directory\n",
    "    * Typically `~/.local/`, but `python3 -m site --user-base` will say for sure\n",
    "* Also need to ensure that `~/.local/bin` is near the front of your `PATH`"
   ]
  },
  {
   "cell_type": "markdown",
   "metadata": {
    "slideshow": {
     "slide_type": "subslide"
    }
   },
   "source": [
    "# Installing to the User Site\n",
    "\n",
    "We use this on HPC machines to install packages like `NEMO-Cmd`, `SalishSeaCmd`, and `MOHID-Cmd` from our Git clones:\n",
    "\n",
    "`python3 -m pip install --user -e $PROJECT/$USER/MEOPAR/NEMO-Cmd/`\n",
    "\n",
    "It makes it so that you can do `nemo run`, `salishsea run`, or `mohid run` without worrying about activating a more sophisticated Python environment.\n",
    "\n",
    "Relies on:\n",
    "\n",
    "* Already having done `module load python/3.8.2`\n",
    "* Having `$HOME/.local/bin` in your `PATH`"
   ]
  },
  {
   "cell_type": "markdown",
   "metadata": {
    "slideshow": {
     "slide_type": "subslide"
    }
   },
   "source": [
    "# Installing to the User Site\n",
    "\n",
    "### Docs\n",
    "\n",
    "https://packaging.python.org/tutorials/installing-packages/#installing-to-the-user-site"
   ]
  },
  {
   "cell_type": "markdown",
   "metadata": {
    "slideshow": {
     "slide_type": "slide"
    }
   },
   "source": [
    "# Aside 1: `python3 -m pip` ???\n",
    "\n",
    "The `-m` option on `python3` means:\n",
    "\n",
    "    Search sys.path for the named module and execute its contents\n",
    "    \n",
    "This ensures that the `pip` (or other package module) that you run is the one associated with the presently activate Python environment.\n",
    "If there is no environment active,\n",
    "it ensures that you are using the Python 3 from the HPC module you loaded.\n",
    "\n",
    "Getting things installed in the wrong environment is one of the biggest pain-points of using environment.\n",
    "This avoids that.\n",
    "    \n",
    "    \n",
    "### Docs\n",
    "https://docs.python.org/3/using/cmdline.html#cmdoption-m"
   ]
  },
  {
   "cell_type": "markdown",
   "metadata": {
    "slideshow": {
     "slide_type": "slide"
    }
   },
   "source": [
    "# Aside 2: `python3 -m pip install -e` ???\n",
    "\n",
    "The `-e` option (short for `--editable`) on `pip install` means:\n",
    "\n",
    "    Install the package using symbolic links,\n",
    "    such that it’s available on sys.path, \n",
    "    yet can still be edited directly from its source files.\n",
    "    \n",
    "We use this for our group-developed packages.\n",
    "It makes the workflow for getting updates into our installed packages (usually) a simple `git pull` in the package repository clone directory."
   ]
  },
  {
   "cell_type": "markdown",
   "metadata": {
    "slideshow": {
     "slide_type": "subslide"
    }
   },
   "source": [
    "# Aside 2: `python3 -m pip install -e`\n",
    "\n",
    "Editable installs avoid:\n",
    "\n",
    "* me having to build releases of our packages and upload them to a package repository\n",
    "* me having to decide when the changes that have happened warrant building a release\n",
    "* you having to wait for me to do those things\n",
    "* you having to install the new realease into your environment to get access to the changes"
   ]
  },
  {
   "cell_type": "markdown",
   "metadata": {
    "slideshow": {
     "slide_type": "slide"
    }
   },
   "source": [
    "# Progress Check\n",
    "\n",
    "* What is a Python package?\n",
    "* What is a Python environment?"
   ]
  },
  {
   "cell_type": "markdown",
   "metadata": {
    "slideshow": {
     "slide_type": "fragment"
    }
   },
   "source": [
    "* 2 Python package managers: `conda` and `pip`\n",
    "* 2 Python environment managers: `conda env` and `virtualenv`\n",
    "* 4 ways to intall Python packages:\n",
    "    * `conda install ...`\n",
    "    * `pip install ...`\n",
    "    * `pip install -e ...`\n",
    "    * `pip install --user ...`"
   ]
  },
  {
   "cell_type": "markdown",
   "metadata": {
    "slideshow": {
     "slide_type": "fragment"
    }
   },
   "source": [
    "* What to use Where, and Why"
   ]
  },
  {
   "cell_type": "markdown",
   "metadata": {
    "slideshow": {
     "slide_type": "slide"
    }
   },
   "source": [
    "## `conda env` and `virtualenv` Environments\n",
    "\n",
    "### Directory tree\n",
    "\n",
    "* In user file space where Python packages are installed\n",
    "* Isolates those packages from the system Python packages\n",
    "    \n",
    "### PATH environment variable manipulation\n",
    "\n",
    "* Ensure that the operating system finds the Python packages in the environment before it looks in the usual operating system places\n",
    "* Maybe other environment variables too"
   ]
  },
  {
   "cell_type": "markdown",
   "metadata": {
    "slideshow": {
     "slide_type": "subslide"
    }
   },
   "source": [
    "# `conda env`\n",
    "\n",
    "The first choice!\n",
    "\n",
    "Use them everywhere (except on Compute Canada HPC clusters):\n",
    "* on your laptop\n",
    "* on Waterhole workstations and `salish`\n",
    "* on cloud VMs\n",
    "\n",
    "If you have `anaconda` installed,\n",
    "you have `conda env`.\n",
    "\n",
    "If you are starting from scratch,\n",
    "use [Miniconda](https://docs.conda.io/en/latest/miniconda.html)\n",
    "to get the `conda` package manager and `conda env` environment manager\n",
    "without the hundreds of packages in the `anaconda` meta-package."
   ]
  },
  {
   "cell_type": "markdown",
   "metadata": {
    "slideshow": {
     "slide_type": "subslide"
    }
   },
   "source": [
    "# `python3 -m virtualenv`\n",
    "\n",
    "Use them on Compute Canada HPC clusters.\n",
    "\n",
    "* Compute Canada have built wheels for many (but not all)\n",
    "  of the scientific Python packages.\n",
    "  In some cases those take advantage are specific features of\n",
    "  the HPC architecture.\n",
    "* Their docs explicitly request us not to install `anaconda` on clusters.\n",
    "\n",
    "`module load python/3.8.2` (or whatever is the latest version)\n",
    "includes `virtualenv` and `pip`."
   ]
  },
  {
   "cell_type": "code",
   "execution_count": null,
   "metadata": {},
   "outputs": [],
   "source": []
  }
 ],
 "metadata": {
  "celltoolbar": "Slideshow",
  "kernelspec": {
   "display_name": "Python 3",
   "language": "python",
   "name": "python3"
  },
  "language_info": {
   "codemirror_mode": {
    "name": "ipython",
    "version": 3
   },
   "file_extension": ".py",
   "mimetype": "text/x-python",
   "name": "python",
   "nbconvert_exporter": "python",
   "pygments_lexer": "ipython3",
   "version": "3.9.0"
  }
 },
 "nbformat": 4,
 "nbformat_minor": 4
}
