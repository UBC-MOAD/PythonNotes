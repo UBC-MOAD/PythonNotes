{
 "cells": [
  {
   "cell_type": "markdown",
   "metadata": {},
   "source": [
    "# Simple way to make your own colormaps"
   ]
  },
  {
   "cell_type": "code",
   "execution_count": 19,
   "metadata": {},
   "outputs": [],
   "source": [
    "import numpy as np\n",
    "from matplotlib.colors import ListedColormap\n",
    "import matplotlib as mpl\n",
    "\n",
    "%matplotlib inline"
   ]
  },
  {
   "cell_type": "markdown",
   "metadata": {},
   "source": [
    "I often start off by using www.color-hex.com to choose a color that I like. This site helps you see the details of the color, rgb and hex codes, shades, complimentary colors etc. \n",
    "\n",
    "For this example, let's use a color described by the hex code \"#407294\" (https://www.color-hex.com/color/407294). The rgb (red-green-blue) composition of this color is: 64 114 148 according to the above website (these values can range between 0 and 256)."
   ]
  },
  {
   "cell_type": "markdown",
   "metadata": {},
   "source": [
    "The matplotlib function that I use to create a colormap (matplotlib.colors.ListedColormap) takes an array of floating points between 0 and 1 as input. So, I convert the rgb values from above to a range from 0 to 1 to create a colormap that goes from blue (RGB: 64, 114, 148) to white (RGB: 255, 255, 255)."
   ]
  },
  {
   "cell_type": "code",
   "execution_count": 4,
   "metadata": {},
   "outputs": [],
   "source": [
    "N = 256"
   ]
  },
  {
   "cell_type": "code",
   "execution_count": 15,
   "metadata": {},
   "outputs": [],
   "source": [
    "vals = np.ones((N, 4))\n",
    "vals[:, 0] = np.linspace(64/N, 1, N) \n",
    "vals[:, 1] = np.linspace(114/N, 1, N)\n",
    "vals[:, 2] = np.linspace(148/N, 1, N)"
   ]
  },
  {
   "cell_type": "markdown",
   "metadata": {},
   "source": [
    "Create the colormaps:"
   ]
  },
  {
   "cell_type": "code",
   "execution_count": 33,
   "metadata": {},
   "outputs": [],
   "source": [
    "blue_cmap   = ListedColormap(vals)\n",
    "blue_cmap_r = ListedColormap(vals).reversed() # reverse direction colormap in case you want that"
   ]
  },
  {
   "cell_type": "markdown",
   "metadata": {},
   "source": [
    "Visualize the continuous colorbar: "
   ]
  },
  {
   "cell_type": "code",
   "execution_count": 34,
   "metadata": {},
   "outputs": [
    {
     "data": {
      "text/plain": [
       "<matplotlib.colorbar.ColorbarBase at 0x7fcfb022aa90>"
      ]
     },
     "execution_count": 34,
     "metadata": {},
     "output_type": "execute_result"
    },
    {
     "data": {
      "image/png": "[encoded data removed]",
      "text/plain": [
       "<Figure size 432x36 with 1 Axes>"
      ]
     },
     "metadata": {
      "needs_background": "light"
     },
     "output_type": "display_data"
    }
   ],
   "source": [
    "fig, ax = plt.subplots(1,1, figsize=(6, 0.5))\n",
    "mpl.colorbar.ColorbarBase(ax, cmap=blue_cmap, orientation='horizontal')"
   ]
  }
 ],
 "metadata": {
  "kernelspec": {
   "display_name": "Python 3",
   "language": "python",
   "name": "python3"
  },
  "language_info": {
   "codemirror_mode": {
    "name": "ipython",
    "version": 3
   },
   "file_extension": ".py",
   "mimetype": "text/x-python",
   "name": "python",
   "nbconvert_exporter": "python",
   "pygments_lexer": "ipython3",
   "version": "3.7.3"
  }
 },
 "nbformat": 4,
 "nbformat_minor": 2
}
