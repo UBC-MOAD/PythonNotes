{
 "cells": [
  {
   "cell_type": "markdown",
   "metadata": {},
   "source": [
    "# f-Strings\n",
    "\n",
    "Some notes on the f-string method of string formatting that was introduced in Python 3.6.\n",
    "\n",
    "f-strings are the recommended way of building strings (like file names/paths) that contain Python variables.\n",
    "They are more readable than previous string interpolation methods, or string concatenation,\n",
    "and they are faster!"
   ]
  },
  {
   "cell_type": "markdown",
   "metadata": {},
   "source": [
    "## References\n",
    "\n",
    "[Python 3's f-Strings: An Improved String Formatting Syntax](https://realpython.com/python-f-strings/) - \n",
    "A concise intro, with brief summaries of the %-formatting and `str.format()` methods that came before f-strings\n",
    "\n",
    "[Format Specification Examples](https://docs.python.org/3/library/string.html#formatexamples) -\n",
    "\"Format specification\" is the name for the bits of code that control how numeric variables are converted to strings\n",
    "(e.g. how many decimal places, leading zeros, space-padding before and after, justification, etc.).\n",
    "The format specification mini-language for the `str.format()` method is also used in f-strings.\n",
    "\n",
    "[Format Specification Mini-Language](https://docs.python.org/3/library/string.html#formatspec) -\n",
    "These are the official docs with all of the details.\n",
    "\n",
    "[Python String Formatting Cheat Sheet](https://cheatography.com/mutanclan/cheat-sheets/python-string-formatting/) -\n",
    "A concise summary of the mini-language.\n",
    "\n",
    "A link to a really good tabulation of the mini-language combined with examples of use would be really nice to have.\n",
    "If you know of such a page, please add it!!"
   ]
  },
  {
   "cell_type": "markdown",
   "metadata": {},
   "source": [
    "## Building a `dict` of File Paths/Names\n",
    "\n",
    "This is based on my best recollection of Rachael's question in the 4-May-2020 MOAD meeting."
   ]
  },
  {
   "cell_type": "code",
   "execution_count": 2,
   "metadata": {},
   "outputs": [],
   "source": [
    "results_dir = \"/data/rmueller/MIDOSS/AKNS-particles\"\n",
    "particle_counts = (1000, 2000, 3000)\n",
    "akns_files = {}  # empty dict to accumulate file paths in\n",
    "for n_particles in particle_counts:\n",
    "    akns_files[n_particles] = f\"{results_dir}/Lagrangian_AKNS-particles_{n_particles}.nc\""
   ]
  },
  {
   "cell_type": "markdown",
   "metadata": {},
   "source": [
    "Iterate over file paths:"
   ]
  },
  {
   "cell_type": "code",
   "execution_count": 3,
   "metadata": {},
   "outputs": [
    {
     "name": "stdout",
     "output_type": "stream",
     "text": [
      "/data/rmueller/MIDOSS/AKNS-particles/Lagrangian_AKNS-particles_1000.nc\n",
      "/data/rmueller/MIDOSS/AKNS-particles/Lagrangian_AKNS-particles_2000.nc\n",
      "/data/rmueller/MIDOSS/AKNS-particles/Lagrangian_AKNS-particles_3000.nc\n"
     ]
    }
   ],
   "source": [
    "for path in akns_files.values():\n",
    "    print(path)"
   ]
  },
  {
   "cell_type": "markdown",
   "metadata": {},
   "source": [
    "Iterate over particle counnts and file paths:"
   ]
  },
  {
   "cell_type": "code",
   "execution_count": 4,
   "metadata": {},
   "outputs": [
    {
     "name": "stdout",
     "output_type": "stream",
     "text": [
      "1000 /data/rmueller/MIDOSS/AKNS-particles/Lagrangian_AKNS-particles_1000.nc\n",
      "2000 /data/rmueller/MIDOSS/AKNS-particles/Lagrangian_AKNS-particles_2000.nc\n",
      "3000 /data/rmueller/MIDOSS/AKNS-particles/Lagrangian_AKNS-particles_3000.nc\n"
     ]
    }
   ],
   "source": [
    "for n_particles, path in akns_files.items():\n",
    "    print(n_particles, path)"
   ]
  },
  {
   "cell_type": "markdown",
   "metadata": {},
   "source": [
    "If you want to get even more Pythonic, the `for` loop can be written as a dictionary comprehension:"
   ]
  },
  {
   "cell_type": "code",
   "execution_count": 5,
   "metadata": {},
   "outputs": [],
   "source": [
    "results_dir = \"/data/rmueller/MIDOSS/AKNS-particles\"\n",
    "particle_counts = (1000, 2000, 3000)\n",
    "akns_files = {\n",
    "    n_particles: f\"{results_dir}/Lagrangian_AKNS-particles_{n_particles}.nc\"\n",
    "    for n_particles in particle_counts\n",
    "}"
   ]
  },
  {
   "cell_type": "markdown",
   "metadata": {},
   "source": [
    "## Format Specification Examples\n",
    "\n",
    "Please add your favourites!"
   ]
  },
  {
   "cell_type": "markdown",
   "metadata": {},
   "source": [
    "Integers with leading zeros:"
   ]
  },
  {
   "cell_type": "code",
   "execution_count": 8,
   "metadata": {},
   "outputs": [
    {
     "name": "stdout",
     "output_type": "stream",
     "text": [
      "000\n",
      "001\n",
      "002\n"
     ]
    }
   ],
   "source": [
    "for num in range(3):\n",
    "    print(f\"{i:03d}\")"
   ]
  },
  {
   "cell_type": "markdown",
   "metadata": {},
   "source": [
    "Control number of decimal places of floats:"
   ]
  },
  {
   "cell_type": "code",
   "execution_count": 18,
   "metadata": {},
   "outputs": [
    {
     "name": "stdout",
     "output_type": "stream",
     "text": [
      "0.967256851089746 0.967\n",
      "0.13987681600715107 0.140\n",
      "0.6640328709115212 0.664\n"
     ]
    }
   ],
   "source": [
    "import random\n",
    "for i in range(3):\n",
    "    rnd = random.random()\n",
    "    print(rnd, f\"{rnd:0.3f}\")"
   ]
  },
  {
   "cell_type": "markdown",
   "metadata": {},
   "source": [
    "Scientific notation:"
   ]
  },
  {
   "cell_type": "code",
   "execution_count": 22,
   "metadata": {},
   "outputs": [
    {
     "name": "stdout",
     "output_type": "stream",
     "text": [
      "0.1741079725814404 1.7411e-01\n",
      "0.44449474022324587 4.4449e-01\n",
      "0.8838926436907062 8.8389e-01\n"
     ]
    }
   ],
   "source": [
    "import random\n",
    "for i in range(3):\n",
    "    rnd = random.random()\n",
    "    print(rnd, f\"{rnd:0.4e}\")"
   ]
  },
  {
   "cell_type": "markdown",
   "metadata": {},
   "source": [
    "Thousands separators:"
   ]
  },
  {
   "cell_type": "code",
   "execution_count": 25,
   "metadata": {},
   "outputs": [
    {
     "name": "stdout",
     "output_type": "stream",
     "text": [
      "1,000\n",
      "20,000\n",
      "3,000,000\n"
     ]
    }
   ],
   "source": [
    "for num in (1000, 20000, 3000000):\n",
    "    print(f\"{num:,}\")"
   ]
  },
  {
   "cell_type": "code",
   "execution_count": null,
   "metadata": {},
   "outputs": [],
   "source": []
  }
 ],
 "metadata": {
  "kernelspec": {
   "display_name": "Python 3",
   "language": "python",
   "name": "python3"
  },
  "language_info": {
   "codemirror_mode": {
    "name": "ipython",
    "version": 3
   },
   "file_extension": ".py",
   "mimetype": "text/x-python",
   "name": "python",
   "nbconvert_exporter": "python",
   "pygments_lexer": "ipython3",
   "version": "3.8.2"
  }
 },
 "nbformat": 4,
 "nbformat_minor": 4
}
