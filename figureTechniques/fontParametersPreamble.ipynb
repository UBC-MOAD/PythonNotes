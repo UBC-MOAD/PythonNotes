{
 "cells": [
  {
   "cell_type": "markdown",
   "metadata": {},
   "source": [
    "### Example: Setting font parameters for consistency, upright mu availability"
   ]
  },
  {
   "cell_type": "markdown",
   "metadata": {},
   "source": [
    "#### Key elements:\n",
    "mpl.rc, muup, latex, updmap "
   ]
  },
  {
   "cell_type": "code",
   "execution_count": 1,
   "metadata": {},
   "outputs": [],
   "source": [
    "import numpy as np\n",
    "import matplotlib.pyplot as plt\n",
    "# here is the font part:\n",
    "import matplotlib as mpl\n",
    "mpl.rc('font', size=8)\n",
    "# some of the following may be repetetive but can also be set relative to the font value above \n",
    "#    (eg \"xx-small, x-small,small, medium, large, x-large, xx-large, larger, or smaller\"; see link above for details)\n",
    "mpl.rc('xtick', labelsize=8)\n",
    "mpl.rc('ytick', labelsize=8)\n",
    "mpl.rc('legend', fontsize=8)\n",
    "mpl.rc('axes', titlesize=8)\n",
    "mpl.rc('axes', labelsize=8)\n",
    "mpl.rc('figure', titlesize=8)\n",
    "mpl.rc('text', usetex=True)\n",
    "# The following gives you access to \\muup, an upright mu character. If you try to use it and then get an \n",
    "#   error when saving (for instance as eps) on a waterhole machine, run updmap at a linux shell prompt on  \n",
    "#   that machine and try again\n",
    "mpl.rc('text.latex', preamble = r'''\n",
    " \\usepackage{txfonts}\n",
    " \\usepackage{lmodern}\n",
    " ''')\n",
    "# Note: syntax of the lines above would be different in older versions of matplotlib:\n",
    "# mpl.rc('text.latex', preamble = ','.join(r'''\n",
    "#  \\\\usepackage{txfonts}\n",
    "#  \\\\usepackage{lmodern}\n",
    "#  '''.split()))\n",
    "mpl.rc('font', family='sans-serif', weight='normal', style='normal')"
   ]
  },
  {
   "cell_type": "code",
   "execution_count": 2,
   "metadata": {},
   "outputs": [
    {
     "data": {
      "image/png": "[encoded data removed]",
      "text/plain": [
       "<Figure size 216x216 with 1 Axes>"
      ]
     },
     "metadata": {
      "needs_background": "light"
     },
     "output_type": "display_data"
    }
   ],
   "source": [
    "fig,ax=plt.subplots(1,1,figsize=(3,3))\n",
    "fig.subplots_adjust(left=.2,bottom=.15)\n",
    "ax.plot(np.arange(0,10),np.random.rand(10),'k.',ms=2)\n",
    "ax.set_xlabel('x axis ($\\muup$M)')\n",
    "ax.set_ylabel('y axis ($\\muup$M)')\n",
    "ax.set_title('Title')\n",
    "fig.savefig('fontParametersPreamble.eps',dpi=200)"
   ]
  },
  {
   "cell_type": "markdown",
   "metadata": {},
   "source": [
    "#### Summary:\n",
    "This notebook shows an example of code that can be included in the preamble of a python script to set default font parameters for figures produced by the script. \n",
    "\n",
    "Including the same boilerplate code for default parameters in the preamble across all notebooks used for a given paper can help with uniformity of figures. \n",
    "\n",
    "A more elegant option that I have not tried out is to use style sheets as suggested here:\n",
    "https://matplotlib.org/3.3.2/tutorials/introductory/customizing.html\n",
    "    - also has a lot of examples of parameters you can set\n",
    "    \n",
    "If you try to use the latex muup character and get an error when saving (for instance as eps) on a waterhole machine, run **updmap** at a shell prompt on that machine and try again"
   ]
  },
  {
   "cell_type": "markdown",
   "metadata": {},
   "source": [
    "#### Note: \n",
    "\n",
    "This code runs in the conda environment py38_ct documented in py38_ct.yml whose contents are included below (with commands to create the environment comments at the end)"
   ]
  },
  {
   "cell_type": "raw",
   "metadata": {},
   "source": [
    "name: py38_ct\n",
    "channels:\n",
    " - conda-forge\n",
    "dependencies:\n",
    " - python=3.8.*\n",
    " - numpy=1.18.*\n",
    " - sqlalchemy=1.3.*\n",
    " - matplotlib=3.1.*\n",
    " - netcdf4\n",
    " - cartopy\n",
    " - hdf4\n",
    " - pandas=0.25.*\n",
    " - progressbar2\n",
    " - xarray\n",
    " - dask\n",
    " - jupyter\n",
    " - arrow\n",
    " - bottleneck\n",
    " - coverage\n",
    " - ipython\n",
    " - jupyterlab\n",
    " - lxml\n",
    " - pytest\n",
    " - pytz\n",
    " - python-dateutil\n",
    " - pyyaml\n",
    " - scipy\n",
    " - cmocean\n",
    " - xlrd\n",
    " - pip\n",
    " - pip:\n",
    "   - f90nml\n",
    "   - gsw\n",
    "# conda env create -f py38_ct.yml\n",
    "# conda activate py38_ct\n",
    "# pip install --user --editable /data/eolson/results/MEOPAR/tools/SalishSeaTools\n",
    "# python -m ipykernel install --user --name py38_ct --display-name \"Python (py38_ct)\""
   ]
  },
  {
   "cell_type": "code",
   "execution_count": null,
   "metadata": {},
   "outputs": [],
   "source": []
  }
 ],
 "metadata": {
  "kernelspec": {
   "display_name": "Python (py38_ct)",
   "language": "python",
   "name": "py38_ct"
  },
  "language_info": {
   "codemirror_mode": {
    "name": "ipython",
    "version": 3
   },
   "file_extension": ".py",
   "mimetype": "text/x-python",
   "name": "python",
   "nbconvert_exporter": "python",
   "pygments_lexer": "ipython3",
   "version": "3.8.2"
  }
 },
 "nbformat": 4,
 "nbformat_minor": 2
}
