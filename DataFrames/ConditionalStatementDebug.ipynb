{
 "cells": [
  {
   "cell_type": "markdown",
   "metadata": {},
   "source": [
    "---\n",
    "# Conditional Statement Debug\n",
    "---\n",
    "This code was created for the MIDOSS project using Dept. of Ecology data that is under user-agreement and can't be shared more broadly.  As such, this code has been trimmed to just show different cases of conditional statements and the results in order to give an example of how python interprets [logical statement priorities](https://docs.python.org/3/reference/expressions.html#operator-precedence).   "
   ]
  },
  {
   "cell_type": "code",
   "execution_count": 1,
   "metadata": {},
   "outputs": [],
   "source": [
    "import pandas as pd\n",
    "import numpy as np\n",
    "import matplotlib.pyplot as plt\n",
    "import yaml"
   ]
  },
  {
   "cell_type": "code",
   "execution_count": 2,
   "metadata": {},
   "outputs": [],
   "source": [
    "# User inputs\n",
    "file_dir  = '/Users/rmueller/Data/MIDOSS/DeptOfEcology/'\n",
    "file_name = 'MuellerTrans4-30-20.xlsx'\n",
    "\n",
    "# This is the precision used to calculate oil type weights \n",
    "# Trial and error showed that a precision of 2 is neccessary for weights\n",
    "# to sum to 1.0\n",
    "precision = 2\n",
    "\n",
    "# The following list includes facilities used in Casey's origin/destination analysis \n",
    "# with names matching the Dept. of Ecology (DOE) database.  \n",
    "# For example, the shapefile \"Maxum Petroleum - Harbor Island Terminal\" is labeled as 'Maxum (Rainer Petroleum)'\n",
    "# in the DOE database.  I use the Ecology language here and will need to translate to Shapefile speak \n",
    "facility_names = [ 'BP Cherry Point Refinery', 'Shell Puget Sound Refinery', 'Shell Oil LP Seattle Distribution Terminal',\n",
    "                   'Maxum (Rainer Petroleum)', 'Tidewater Snake River Terminal','Nustar Energy Tacoma', \n",
    "                   'SeaPort Sound Terminal', 'Tesoro Vancouver Terminal','Phillips 66 Ferndale Refinery', \n",
    "                   'Phillips 66 Tacoma Terminal', 'Andeavor Anacortes Refinery (formerly Tesoro)',\n",
    "                   'Tesoro Port Angeles Terminal','U.S. Oil & Refining','Naval Air Station Whidbey Island (NASWI)',\n",
    "                   'NAVSUP Manchester', 'Alon Asphalt Company (Paramount Petroleum)', 'Kinder Morgan Liquids Terminal - Harbor Island',\n",
    "                   'Nustar Energy Tacoma', 'Tesoro Pasco Terminal', 'REG Grays Harbor, LLC', 'Tidewater Vancouver Terminal',\n",
    "                   'TLP Management Services LLC (TMS)']\n",
    "\n",
    "# define vessel and oil types to include in .yaml file\n",
    "vessel_types = ['atb', 'barge', 'tanker']\n",
    "oil_types    = ['akns', 'bunker', 'dilbit', 'jet', 'diesel', 'gas', 'other']\n",
    "data_types    = ['total_gallons', 'fraction_of_total', 'number_of_transfers']"
   ]
  },
  {
   "cell_type": "code",
   "execution_count": 3,
   "metadata": {},
   "outputs": [],
   "source": [
    "# Import columns are: (G) Deliverer, (H) Receiver, (O) Region, (P) Product, \n",
    "#                     (Q) Quantity in Gallons, (R) Transfer Type (oiling, Cargo, or Other)', \n",
    "#                     (w) DelivererTypeDescription, (x) ReceiverTypeDescription \n",
    "df = pd.read_excel(f'{file_dir}{file_name}',sheet_name='Vessel Oil Transfer', \n",
    "                   usecols=\"G,H,P,Q,R,W,X\")\n",
    "\n",
    "df.TransferQtyInGallon = df.TransferQtyInGallon.astype(float).round(precision)\n",
    "\n",
    "# housekeeping\n",
    "df['Receiver'] = df['Receiver'].str.replace('US Oil Tacoma ', 'U.S. Oil & Refining')\n",
    "df['Receiver'] = df['Receiver'].str.replace('TLP', 'TLP Management Services LLC (TMS)')\n",
    "df['Deliverer'] = df['Deliverer'].str.replace('US Oil Tacoma ', 'U.S. Oil & Refining')\n",
    "df['Deliverer'] = df['Deliverer'].str.replace('TLP', 'TLP Management Services LLC (TMS)')"
   ]
  },
  {
   "cell_type": "markdown",
   "metadata": {},
   "source": [
    "## Create name lists for the DOE oil types used in our monte-carlo oil categories"
   ]
  },
  {
   "cell_type": "code",
   "execution_count": 4,
   "metadata": {},
   "outputs": [
    {
     "data": {
      "text/plain": [
       "{'akns': ['CRUDE OIL', 'BAKKEN'],\n",
       " 'bunker': ['BUNKER OIL/HFO'],\n",
       " 'dilbit': ['BITUMEN OIL (DIL OR SYN)'],\n",
       " 'jet': ['JET FUEL/KEROSENE'],\n",
       " 'diesel': ['DIESEL/MARINE GAS OIL', 'BIODIESEL', 'DIESEL LOW SULPHUR (ULSD)'],\n",
       " 'gas': ['GASOLINE'],\n",
       " 'other': ['ETHANOL',\n",
       "  'LUBE OIL/MOTOR OIL',\n",
       "  'Cat Feed/VGO',\n",
       "  'CUTTER STOCK',\n",
       "  'OILY WATER MIXTURE',\n",
       "  'WASTE OIL',\n",
       "  'Z-OTHER',\n",
       "  'HYDRAULIC OIL',\n",
       "  'OILY WASTE',\n",
       "  'USED OIL',\n",
       "  'NAPTHA',\n",
       "  'EDIBLE/VEGETABLE OIL',\n",
       "  'DECANT OIL',\n",
       "  'NONENE',\n",
       "  'ASPHALT/CREOSEOTE']}"
      ]
     },
     "execution_count": 4,
     "metadata": {},
     "output_type": "execute_result"
    }
   ],
   "source": [
    "# identify all names of oils in DOE database that are attributed to our oil types\n",
    "oil_classification = {}\n",
    "for oil in oil_types:\n",
    "    oil_classification[oil] = []\n",
    "\n",
    "[nrows,ncols] = df.shape\n",
    "for row in range(nrows):\n",
    "    if 'CRUDE' in df.Product[row] and df.Product[row] not in oil_classification['akns']:\n",
    "        oil_classification['akns'].append(df.Product[row])\n",
    "    elif 'BAKKEN' in df.Product[row] and df.Product[row] not in oil_classification['akns']:\n",
    "        oil_classification['akns'].append(df.Product[row])\n",
    "    elif 'BUNKER' in df.Product[row] and df.Product[row] not in oil_classification['bunker']:\n",
    "        oil_classification['bunker'].append(df.Product[row])\n",
    "    elif 'BITUMEN' in df.Product[row] and df.Product[row] not in oil_classification['dilbit']:\n",
    "        oil_classification['dilbit'].append(df.Product[row])\n",
    "    elif 'DIESEL' in df.Product[row] and df.Product[row] not in oil_classification['diesel']:\n",
    "        oil_classification['diesel'].append(df.Product[row])\n",
    "    elif 'GASOLINE' in df.Product[row] and df.Product[row] not in oil_classification['gas']:\n",
    "        oil_classification['gas'].append(df.Product[row])\n",
    "    elif 'JET' in df.Product[row] and df.Product[row] not in oil_classification['jet']:\n",
    "        oil_classification['jet'].append(df.Product[row])\n",
    "    elif ('CRUDE' not in df.Product[row] and\n",
    "          'BAKKEN' not in df.Product[row] and\n",
    "          'BUNKER' not in df.Product[row] and\n",
    "          'BITUMEN' not in df.Product[row] and\n",
    "          'DIESEL' not in df.Product[row] and\n",
    "          'GASOLINE' not in df.Product[row] and\n",
    "          'JET' not in df.Product[row] and\n",
    "          df.Product[row] not in oil_classification['other']):\n",
    "        oil_classification['other'].append(df.Product[row])"
   ]
  },
  {
   "cell_type": "markdown",
   "metadata": {},
   "source": [
    "### Create a dataframe that combines imports and exports from our selected marine terminals so that we can query based on ship-type and yield the combined sum of imports and exports"
   ]
  },
  {
   "cell_type": "code",
   "execution_count": 5,
   "metadata": {},
   "outputs": [
    {
     "name": "stdout",
     "output_type": "stream",
     "text": [
      "Combined df shape: (4391, 7)\n"
     ]
    }
   ],
   "source": [
    "import_export_df = df.loc[        \n",
    "        (df.Receiver.isin(facility_names)) |\n",
    "        (df.Deliverer.isin(facility_names)) &\n",
    "        (df.TransferType == 'Cargo'),\n",
    "    ]\n",
    "print(f'Combined df shape: {import_export_df.shape}')"
   ]
  },
  {
   "cell_type": "markdown",
   "metadata": {},
   "source": [
    "### Tally up total volume transferred by ship type"
   ]
  },
  {
   "cell_type": "code",
   "execution_count": 6,
   "metadata": {},
   "outputs": [],
   "source": [
    "# This is the total gallons transferred by ship type and summed over all oil types\n",
    "total = {}\n",
    "## Tally up exports by ship type\n",
    "for vessel in vessel_types:\n",
    "    if vessel == 'atb':\n",
    "        type_description = ['TANK BARGE','TUGBOAT']\n",
    "        atb_import_total = df.loc[\n",
    "            (df.TransferType == 'Cargo') &\n",
    "            (df.DelivererTypeDescription.isin(type_description)) &\n",
    "            (df.Deliverer.str.contains('ITB') | df.Deliverer.str.contains('ATB')) &\n",
    "            (df.Receiver.isin(facility_names)),\n",
    "        ]\n",
    "        \n",
    "        atb_export_total = df.loc[\n",
    "            (df.TransferType == 'Cargo') &\n",
    "            (df.ReceiverTypeDescription.isin(type_description)) &\n",
    "            (df.Receiver.str.contains('ITB') | df.Receiver.str.contains('ATB')) & \n",
    "            (df.Deliverer.isin(facility_names)),\n",
    "        ]\n",
    "   \n",
    "        total['atb'] = (atb_import_total.TransferQtyInGallon.sum(axis=0).item() + \n",
    "                        atb_export_total.TransferQtyInGallon.sum(axis=0).item()\n",
    "                       )"
   ]
  },
  {
   "cell_type": "markdown",
   "metadata": {},
   "source": [
    "## Sort cargo transfers by ship types.  We have three categories: tanker, atb, barge. ATB is the only one shown here.\n",
    "1. `atb`: Listed in DOE dataset as `TANK BARGE` or `TUGBOAT` TypeDescription and `ATB` or `ITB` as Deliverer/Receiver\n"
   ]
  },
  {
   "cell_type": "markdown",
   "metadata": {},
   "source": [
    "## Tally up `total_gallons`, `number_of_transfers`, `fraction_of_total`, where:\n",
    "- `total_gallons`: Total gallons transfered for the particular oil type\n",
    "- `fraction_of_total`: (`total_gallons` by oil type) / (total gallons across oil types)\n",
    "- `number_of_transfers`: Total transfers for the particular oil type\n",
    "\n",
    "I use `import_export_df` to pre-select cargo transfers to/from our selected marine terminals.  I tried many things here to try to force creation of fractions that sum to 1.0, including:\n",
    "1. multipling by 100*int(numerator), integer divide (//) int(denominator), then divide ratio by 100 to convert back to float, e.g.:\n",
    "```\n",
    "test = (100 * int(2))//int(3)\n",
    "test/100\n",
    "```\n",
    "2. Using decimal_divide and setting precision (which only appears to do anything for precision <= 2), e.g.:\n",
    "```\n",
    "destination[facility][vessel][oil]['fraction_of_total'] = decimal_divide(\n",
    "     int(destination[facility][vessel][oil]['total_gallons']), \n",
    "     int(tanker_import_total[facility]),\n",
    "     precision\n",
    " ).round(precision)\n",
    "```\n",
    "3. Dividing two integers (the method I am sticking with as it's cleaner than (1) and just as effetive)"
   ]
  },
  {
   "cell_type": "code",
   "execution_count": 7,
   "metadata": {},
   "outputs": [],
   "source": [
    "all_US = {} # this is the output dictionary\n",
    "import_US = {}\n",
    "export_US = {}\n",
    "for vessel in vessel_types:\n",
    "    all_US[vessel] = {}\n",
    "    import_US[vessel] = {}\n",
    "    export_US[vessel] = {}\n",
    "    for oil in oil_types:\n",
    "        all_US[vessel][oil] = {}\n",
    "        import_US[vessel][oil] = {}\n",
    "        export_US[vessel][oil] = {}\n",
    "        for data in data_types:\n",
    "            all_US[vessel][oil][data] = 0\n",
    "            import_US[vessel][oil][data] = 0\n",
    "            export_US[vessel][oil][data] = 0"
   ]
  },
  {
   "cell_type": "markdown",
   "metadata": {},
   "source": [
    "### ATB imports and exports"
   ]
  },
  {
   "cell_type": "markdown",
   "metadata": {},
   "source": [
    "This first example is the right way.  Debug examples follow."
   ]
  },
  {
   "cell_type": "code",
   "execution_count": 10,
   "metadata": {},
   "outputs": [
    {
     "name": "stdout",
     "output_type": "stream",
     "text": [
      "number of transfers in numerator for akns: 6\n",
      "number of transfers in denominator for akns: 6\n",
      "number of transfers in numerator for bunker: 91\n",
      "number of transfers in denominator for bunker: 91\n",
      "number of transfers in numerator for dilbit: 0\n",
      "number of transfers in denominator for dilbit: 0\n",
      "number of transfers in numerator for jet: 72\n",
      "number of transfers in denominator for jet: 72\n",
      "number of transfers in numerator for diesel: 174\n",
      "number of transfers in denominator for diesel: 174\n",
      "number of transfers in numerator for gas: 236\n",
      "number of transfers in denominator for gas: 236\n",
      "number of transfers in numerator for other: 83\n",
      "number of transfers in denominator for other: 83\n"
     ]
    }
   ],
   "source": [
    "vessel = 'atb'\n",
    "type_description = ['TANK BARGE','TUGBOAT']\n",
    "\n",
    "# Now estimat fractions of total by oil types\n",
    "for oil in oil_types:\n",
    "\n",
    "    import_US[vessel][oil]['total_gallons'] = df.loc[\n",
    "            (df.TransferType == 'Cargo') &\n",
    "            (df.DelivererTypeDescription.isin(type_description)) &\n",
    "            (df.Deliverer.str.contains('ITB') | df.Deliverer.str.contains('ATB')) &\n",
    "            (df.Receiver.isin(facility_names)) &\n",
    "            (df.Product.isin(oil_classification[oil])),\n",
    "            'TransferQtyInGallon'\n",
    "        ]\n",
    "            \n",
    "    export_US[vessel][oil]['total_gallons'] = df.loc[\n",
    "            (df.TransferType == 'Cargo') &\n",
    "            (df.ReceiverTypeDescription.isin(type_description)) &\n",
    "            (df.Receiver.str.contains('ITB') | df.Receiver.str.contains('ATB')) & \n",
    "            (df.Deliverer.isin(facility_names)) &\n",
    "            (df.Product.isin(oil_classification[oil])),\n",
    "            'TransferQtyInGallon'\n",
    "        ]\n",
    "\n",
    "    # DEBUG: Check that the total number of records for \n",
    "    #  different oil types are the same in the two dictionaries \n",
    "    # used in the fraction calculation \n",
    "    numerator_total = (import_US[vessel][oil]['total_gallons'].shape[0] +\n",
    "                       export_US[vessel][oil]['total_gallons'].shape[0])\n",
    "    denominator_total = (atb_import_total.loc[atb_import_total.Product.isin(oil_classification[oil])].shape[0] +\n",
    "                        atb_export_total.loc[atb_export_total.Product.isin(oil_classification[oil])].shape[0]\n",
    "                        )\n",
    "\n",
    "    print(f'number of transfers in numerator for {oil}: {numerator_total}')\n",
    "    print(f'number of transfers in denominator for {oil}: {denominator_total}')\n",
    "    # Add up net oil quantity transferred by oil_types\n",
    "    all_US[vessel][oil]['total_gallons'] = (\n",
    "        import_US[vessel][oil]['total_gallons'].sum(axis=0).item() + \n",
    "        export_US[vessel][oil]['total_gallons'].sum(axis=0).item()\n",
    "    )\n",
    "\n",
    "    # Calculate the fraction of total oil transfer represented \n",
    "    # by this oil type    \n",
    "    if total[vessel] != 0:\n",
    "        all_US[vessel][oil]['fraction_of_total'] = (\n",
    "            int(all_US[vessel][oil]['total_gallons'])/\n",
    "            int(total[vessel])\n",
    "        )       \n",
    "\n",
    "    # Catalogue the number of transfers \n",
    "    all_US[vessel][oil]['number_of_transfers'] = (\n",
    "        import_US[vessel][oil]['total_gallons'].shape[0] + \n",
    "        export_US[vessel][oil]['total_gallons'].shape[0]\n",
    "    ) "
   ]
  },
  {
   "cell_type": "markdown",
   "metadata": {},
   "source": [
    "---\n",
    "\n",
    "BEGIN TESTING: What is the calculation if I remove ITB and ATB query entirely?"
   ]
  },
  {
   "cell_type": "code",
   "execution_count": 11,
   "metadata": {},
   "outputs": [
    {
     "name": "stdout",
     "output_type": "stream",
     "text": [
      "number of transfers in numerator for akns: 23\n",
      "number of transfers in denominator for akns: 6\n",
      "number of transfers in numerator for bunker: 1235\n",
      "number of transfers in denominator for bunker: 91\n",
      "number of transfers in numerator for dilbit: 6\n",
      "number of transfers in denominator for dilbit: 0\n",
      "number of transfers in numerator for jet: 255\n",
      "number of transfers in denominator for jet: 72\n",
      "number of transfers in numerator for diesel: 920\n",
      "number of transfers in denominator for diesel: 174\n",
      "number of transfers in numerator for gas: 606\n",
      "number of transfers in denominator for gas: 236\n",
      "number of transfers in numerator for other: 313\n",
      "number of transfers in denominator for other: 83\n"
     ]
    }
   ],
   "source": [
    "# Now estimat fractions of total by oil types\n",
    "for oil in oil_types:\n",
    "\n",
    "    import_US[vessel][oil]['total_gallons'] = df.loc[\n",
    "            (df.TransferType == 'Cargo') &\n",
    "            (df.DelivererTypeDescription.isin(type_description)) &\n",
    "            (df.Receiver.isin(facility_names)) &\n",
    "            (df.Product.isin(oil_classification[oil])),\n",
    "            'TransferQtyInGallon'\n",
    "        ]\n",
    "            \n",
    "    export_US[vessel][oil]['total_gallons'] = df.loc[\n",
    "            (df.TransferType == 'Cargo') &\n",
    "            (df.ReceiverTypeDescription.isin(type_description)) &\n",
    "            (df.Deliverer.isin(facility_names)) &\n",
    "            (df.Product.isin(oil_classification[oil])),\n",
    "            'TransferQtyInGallon'\n",
    "        ] \n",
    "    \n",
    "    # DEBUG: Check that the total number of records for \n",
    "    #  different oil types are the same in the two dictionaries \n",
    "    # used in the fraction calculation \n",
    "    numerator_total = (import_US[vessel][oil]['total_gallons'].shape[0] +\n",
    "                       export_US[vessel][oil]['total_gallons'].shape[0])\n",
    "    denominator_total = (atb_import_total.loc[atb_import_total.Product.isin(oil_classification[oil])].shape[0] +\n",
    "                        atb_export_total.loc[atb_export_total.Product.isin(oil_classification[oil])].shape[0]\n",
    "                        )\n",
    "\n",
    "    print(f'number of transfers in numerator for {oil}: {numerator_total}')\n",
    "    print(f'number of transfers in denominator for {oil}: {denominator_total}')\n",
    "    # Add up net oil quantity transferred by oil_types\n",
    "    all_US[vessel][oil]['total_gallons'] = (\n",
    "        import_US[vessel][oil]['total_gallons'].sum(axis=0).item() + \n",
    "        export_US[vessel][oil]['total_gallons'].sum(axis=0).item()\n",
    "    )\n",
    "\n",
    "    # Calculate the fraction of total oil transfer represented \n",
    "    # by this oil type    \n",
    "    if total[vessel] != 0:\n",
    "        all_US[vessel][oil]['fraction_of_total'] = (\n",
    "            int(all_US[vessel][oil]['total_gallons'])/\n",
    "            int(total[vessel])\n",
    "        )       \n",
    "\n",
    "    # Catalogue the number of transfers \n",
    "    all_US[vessel][oil]['number_of_transfers'] = (\n",
    "        import_US[vessel][oil]['total_gallons'].shape[0] + \n",
    "        export_US[vessel][oil]['total_gallons'].shape[0]\n",
    "    ) "
   ]
  },
  {
   "cell_type": "markdown",
   "metadata": {},
   "source": [
    "This is the case of all barges in numerator vs. ATBs in denominator, and it makes sense that the numberator has consistently higher values than the denominator "
   ]
  },
  {
   "cell_type": "markdown",
   "metadata": {},
   "source": [
    "---\n",
    "\n",
    "Now compare with incorrect grouping of | statement.\n",
    "\n",
    "---"
   ]
  },
  {
   "cell_type": "code",
   "execution_count": 12,
   "metadata": {},
   "outputs": [
    {
     "name": "stdout",
     "output_type": "stream",
     "text": [
      "number of transfers in numerator for akns: 30\n",
      "number of transfers in denominator for akns: 6\n",
      "number of transfers in numerator for bunker: 67\n",
      "number of transfers in denominator for bunker: 91\n",
      "number of transfers in numerator for dilbit: 27\n",
      "number of transfers in denominator for dilbit: 0\n",
      "number of transfers in numerator for jet: 29\n",
      "number of transfers in denominator for jet: 72\n",
      "number of transfers in numerator for diesel: 56\n",
      "number of transfers in denominator for diesel: 174\n",
      "number of transfers in numerator for gas: 71\n",
      "number of transfers in denominator for gas: 236\n",
      "number of transfers in numerator for other: 86\n",
      "number of transfers in denominator for other: 83\n"
     ]
    }
   ],
   "source": [
    "# Now estimate fractions of total by oil types\n",
    "for oil in oil_types:\n",
    "\n",
    "    import_US[vessel][oil]['total_gallons'] = df.loc[\n",
    "            (df.TransferType == 'Cargo') &\n",
    "            (df.DelivererTypeDescription.isin(type_description)) &\n",
    "            (df.Deliverer.str.contains('ITB')) | (df.Deliverer.str.contains('ATB')) &\n",
    "            (df.Receiver.isin(facility_names)) &\n",
    "            (df.Product.isin(oil_classification[oil])),\n",
    "            'TransferQtyInGallon'\n",
    "        ]\n",
    "            \n",
    "    export_US[vessel][oil]['total_gallons'] = df.loc[\n",
    "            (df.TransferType == 'Cargo') &\n",
    "            (df.ReceiverTypeDescription.isin(type_description)) &\n",
    "            (df.Deliverer.str.contains('ITB')) | (df.Deliverer.str.contains('ATB')) &\n",
    "            (df.Deliverer.isin(facility_names)) &\n",
    "            (df.Product.isin(oil_classification[oil])),\n",
    "            'TransferQtyInGallon'\n",
    "        ] \n",
    "    \n",
    "    # DEBUG: Check that the total number of records for \n",
    "    #  different oil types are the same in the two dictionaries \n",
    "    # used in the fraction calculation \n",
    "    numerator_total = (import_US[vessel][oil]['total_gallons'].shape[0] +\n",
    "                       export_US[vessel][oil]['total_gallons'].shape[0])\n",
    "    denominator_total = (atb_import_total.loc[atb_import_total.Product.isin(oil_classification[oil])].shape[0] +\n",
    "                        atb_export_total.loc[atb_export_total.Product.isin(oil_classification[oil])].shape[0]\n",
    "                        )\n",
    "\n",
    "    print(f'number of transfers in numerator for {oil}: {numerator_total}')\n",
    "    print(f'number of transfers in denominator for {oil}: {denominator_total}')\n",
    "    # Add up net oil quantity transferred by oil_types\n",
    "    all_US[vessel][oil]['total_gallons'] = (\n",
    "        import_US[vessel][oil]['total_gallons'].sum(axis=0).item() + \n",
    "        export_US[vessel][oil]['total_gallons'].sum(axis=0).item()\n",
    "    )\n",
    "\n",
    "    # Calculate the fraction of total oil transfer represented \n",
    "    # by this oil type    \n",
    "    if total[vessel] != 0:\n",
    "        all_US[vessel][oil]['fraction_of_total'] = (\n",
    "            int(all_US[vessel][oil]['total_gallons'])/\n",
    "            int(total[vessel])\n",
    "        )       \n",
    "\n",
    "    # Catalogue the number of transfers \n",
    "    all_US[vessel][oil]['number_of_transfers'] = (\n",
    "        import_US[vessel][oil]['total_gallons'].shape[0] + \n",
    "        export_US[vessel][oil]['total_gallons'].shape[0]\n",
    "    ) "
   ]
  },
  {
   "cell_type": "markdown",
   "metadata": {},
   "source": [
    "The results here are inconsistent.  For some oil types, the denominator is greater (i.e. more ATBs than non-ATBs); for some oil types the demonimator is less (i.e. fewer ATBs than non-ATBs).  "
   ]
  },
  {
   "cell_type": "code",
   "execution_count": 13,
   "metadata": {},
   "outputs": [
    {
     "name": "stdout",
     "output_type": "stream",
     "text": [
      "number of transfers in numerator for akns: 30\n",
      "number of transfers in denominator for akns: 6\n",
      "number of transfers in numerator for bunker: 67\n",
      "number of transfers in denominator for bunker: 91\n",
      "number of transfers in numerator for dilbit: 27\n",
      "number of transfers in denominator for dilbit: 0\n",
      "number of transfers in numerator for jet: 29\n",
      "number of transfers in denominator for jet: 72\n",
      "number of transfers in numerator for diesel: 56\n",
      "number of transfers in denominator for diesel: 174\n",
      "number of transfers in numerator for gas: 71\n",
      "number of transfers in denominator for gas: 236\n",
      "number of transfers in numerator for other: 86\n",
      "number of transfers in denominator for other: 83\n"
     ]
    }
   ],
   "source": [
    "# Now estimate fractions of total by oil types\n",
    "for oil in oil_types:\n",
    "\n",
    "    import_US[vessel][oil]['total_gallons'] = df.loc[\n",
    "            ((df.TransferType == 'Cargo') &\n",
    "            (df.DelivererTypeDescription.isin(type_description)) &\n",
    "            (df.Deliverer.str.contains('ITB'))) | ((df.Deliverer.str.contains('ATB')) &\n",
    "            (df.Receiver.isin(facility_names)) &\n",
    "            (df.Product.isin(oil_classification[oil]))),\n",
    "            'TransferQtyInGallon'\n",
    "        ]\n",
    "            \n",
    "    export_US[vessel][oil]['total_gallons'] = df.loc[\n",
    "            ((df.TransferType == 'Cargo') &\n",
    "            (df.ReceiverTypeDescription.isin(type_description)) &\n",
    "            (df.Deliverer.str.contains('ITB'))) | ((df.Deliverer.str.contains('ATB')) &\n",
    "            (df.Deliverer.isin(facility_names)) &\n",
    "            (df.Product.isin(oil_classification[oil]))),\n",
    "            'TransferQtyInGallon'\n",
    "        ] \n",
    "    \n",
    "    # DEBUG: Check that the total number of records for \n",
    "    #  different oil types are the same in the two dictionaries \n",
    "    # used in the fraction calculation \n",
    "    numerator_total = (import_US[vessel][oil]['total_gallons'].shape[0] +\n",
    "                       export_US[vessel][oil]['total_gallons'].shape[0])\n",
    "    denominator_total = (atb_import_total.loc[atb_import_total.Product.isin(oil_classification[oil])].shape[0] +\n",
    "                        atb_export_total.loc[atb_export_total.Product.isin(oil_classification[oil])].shape[0]\n",
    "                        )\n",
    "\n",
    "    print(f'number of transfers in numerator for {oil}: {numerator_total}')\n",
    "    print(f'number of transfers in denominator for {oil}: {denominator_total}')\n",
    "    # Add up net oil quantity transferred by oil_types\n",
    "    all_US[vessel][oil]['total_gallons'] = (\n",
    "        import_US[vessel][oil]['total_gallons'].sum(axis=0).item() + \n",
    "        export_US[vessel][oil]['total_gallons'].sum(axis=0).item()\n",
    "    )\n",
    "\n",
    "    # Calculate the fraction of total oil transfer represented \n",
    "    # by this oil type    \n",
    "    if total[vessel] != 0:\n",
    "        all_US[vessel][oil]['fraction_of_total'] = (\n",
    "            int(all_US[vessel][oil]['total_gallons'])/\n",
    "            int(total[vessel])\n",
    "        )       \n",
    "\n",
    "    # Catalogue the number of transfers \n",
    "    all_US[vessel][oil]['number_of_transfers'] = (\n",
    "        import_US[vessel][oil]['total_gallons'].shape[0] + \n",
    "        export_US[vessel][oil]['total_gallons'].shape[0]\n",
    "    ) "
   ]
  },
  {
   "cell_type": "markdown",
   "metadata": {},
   "source": [
    "Take away: everything before the | statement is grouped together and everything after the | statement is grouped together as (before |) OR (after |); so the lesser priority statement effectively introduces brackets for how the conditions are evaluated and how the lesser priority statement is used.  "
   ]
  },
  {
   "cell_type": "markdown",
   "metadata": {},
   "source": [
    "END TESTING\n",
    "\n",
    "---\n",
    "---"
   ]
  }
 ],
 "metadata": {
  "kernelspec": {
   "display_name": "Python 3",
   "language": "python",
   "name": "python3"
  },
  "language_info": {
   "codemirror_mode": {
    "name": "ipython",
    "version": 3
   },
   "file_extension": ".py",
   "mimetype": "text/x-python",
   "name": "python",
   "nbconvert_exporter": "python",
   "pygments_lexer": "ipython3",
   "version": "3.9.1"
  }
 },
 "nbformat": 4,
 "nbformat_minor": 5
}
